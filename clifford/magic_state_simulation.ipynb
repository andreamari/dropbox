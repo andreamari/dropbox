{
 "cells": [
  {
   "cell_type": "markdown",
   "metadata": {},
   "source": [
    "# Magic states and T-gadgets with Qiskit"
   ]
  },
  {
   "cell_type": "markdown",
   "metadata": {},
   "source": [
    "## Theory\n",
    "\n",
    "\n",
    "Assume that we want to prepare (or simulate) \n",
    "$$\\rho=U |0\\dots0 \\rangle_{\\rm sys} \\langle 0\\dots 0|_{\\rm sys} U^\\dagger,$$\n",
    "\n",
    "where $U$ is an arbitrary circuit compiled into the $H$, $S$, $CNOT$, $T$ gateset.\n",
    "\n",
    "Assume that the number of $T$ gates, also known as T-count, is $t$.\n",
    "\n",
    "Using magic states and T-gadgets, it can be shown [Bravyi, Gosset (2016)](https://arxiv.org/abs/1601.07601) that:\n",
    "\n",
    "$$\\rho = 2^t \\, {\\rm tr_{aux}}[\\rho' (I \\otimes |0\\dots0 \\rangle_{\\rm aux} \\langle 0\\dots 0|_{\\rm aux}) ],$$\n",
    "\n",
    "where $$\\rho'= U' (|0\\dots0 \\rangle_{\\rm sys}\\langle 0\\dots 0|_{\\rm sys} \\otimes |T\\dots T \\rangle_{\\rm aux}  \\langle T\\dots T|_{\\rm aux}) U'^\\dagger,$$\n",
    "\n",
    "$|T\\dots T \\rangle_{\\rm aux}  \\langle T\\dots T|_{\\rm aux}$ is the tensor product of $t$ magic states.\n",
    "\n",
    "$$|T\\rangle = T\\, H\\, |0\\rangle, \\text{ (magic state)}$$  \n",
    "\n",
    "and, **importantly**, $U'$ is a Clifford circuit.\n",
    "\n",
    "More precisely, $U'$ is obtained from $U$ by replacing all $T$ gates with $CNOT$ gates connecting qubits of the system and magic states.\n",
    "\n",
    "**NOTE:** This is just a particular way of using T-gadgets and it corresponds to just a particular post-selected string of results on the auxiliary qubits (the string with $0 \\dots 0$).\n"
   ]
  },
  {
   "cell_type": "markdown",
   "metadata": {},
   "source": [
    "## Setting"
   ]
  },
  {
   "cell_type": "code",
   "execution_count": 23,
   "metadata": {},
   "outputs": [],
   "source": [
    "import qiskit\n",
    "from qiskit import QuantumCircuit\n",
    "from qiskit.quantum_info import Pauli\n",
    "\n",
    "import numpy as np\n",
    "from matplotlib import pyplot as plt\n",
    "\n",
    "\n",
    "n_qubits = 5\n",
    "n_bits = n_qubits\n",
    "num_t = 5\n",
    "shots = 100000"
   ]
  },
  {
   "cell_type": "code",
   "execution_count": 24,
   "metadata": {},
   "outputs": [
    {
     "data": {
      "text/plain": [
       "'YXYIX'"
      ]
     },
     "execution_count": 24,
     "metadata": {},
     "output_type": "execute_result"
    }
   ],
   "source": [
    "def chop_and_real(x, eps = 1e-10):\n",
    "    \"\"\"Chop values of Numpy arrays.\"\"\"\n",
    "    y = np.copy(x)\n",
    "    y[np.abs(x) < eps] = 0\n",
    "    return np.real(y)\n",
    "\n",
    "def random_pauli_string(n_qubits, seed=None):\n",
    "    \"\"\"Sample a random pauli string. \"\"\"\n",
    "    if seed is None:\n",
    "        rnd_state = np.random\n",
    "    else:\n",
    "        rnd_state = np.random.RandomState(seed)  \n",
    "    rnd_paulis = rnd_state.choice([\"I\", \"X\", \"Y\", \"Z\"], n_qubits, replace=True)\n",
    "    return \"\".join(rnd_paulis)\n",
    "\n",
    "random_pauli_string(5)"
   ]
  },
  {
   "cell_type": "code",
   "execution_count": 25,
   "metadata": {},
   "outputs": [
    {
     "data": {
      "text/plain": [
       "['XZIIZ', 'IZXIZ', 'YIXZI', 'IZXIY', 'YYZXX']"
      ]
     },
     "execution_count": 25,
     "metadata": {},
     "output_type": "execute_result"
    }
   ],
   "source": [
    "def sample_pauli_strings(num_paulis, n_qubits, with_replacement=False, seed=None):\n",
    "    \"\"\"Returns a list of random Pauli strings sorted from many Is to few Is.\"\"\"\n",
    "    max_iterations = 10 ** 4\n",
    "    sampled_paulis = []\n",
    "\n",
    "    for j in range(max_iterations):\n",
    "        if len(sampled_paulis) == num_paulis:\n",
    "            sampled_paulis = sorted(\n",
    "                sampled_paulis, key=lambda x: -sum([int(c==\"I\") for c in x])\n",
    "            )\n",
    "            return sampled_paulis\n",
    "        \n",
    "        sampled_paulis.append(random_pauli_string(n_qubits, seed=j))\n",
    "        \n",
    "        if not with_replacement:\n",
    "            sampled_paulis = list(set(sampled_paulis))\n",
    "            \n",
    "    raise RuntimeError(\"Max number of iterations reached.\")\n",
    "\n",
    "\n",
    "\n",
    "sample_pauli_strings(5, n_qubits=n_qubits)"
   ]
  },
  {
   "cell_type": "markdown",
   "metadata": {},
   "source": [
    "## Generate a random Clifford+T circuit."
   ]
  },
  {
   "cell_type": "code",
   "execution_count": 26,
   "metadata": {},
   "outputs": [],
   "source": [
    "def rnd_clifford_t_circuit(n_qubits, n_bits, num_t, t_gadget=False, randomize=False, seed=None, seed_s=None):\n",
    "    \"\"\"Makes a random circuit with Clifford gates and T gates.\"\"\"\n",
    "    \n",
    "    if n_qubits < 5:\n",
    "        raise ValueError(\"The number of qubits must be at least 5.\")\n",
    "    \n",
    "    # init rnd number generator\n",
    "    if seed is None:\n",
    "        rnd_state = np.random\n",
    "        rnd_state_s = np.random\n",
    "    else:\n",
    "        rnd_state = np.random.RandomState(seed)\n",
    "        rnd_state_s = np.random.RandomState(seed_s)\n",
    "    # Init circuit\n",
    "    if not t_gadget:\n",
    "        circuit = QuantumCircuit(n_qubits, n_bits)\n",
    "    else:\n",
    "        circuit = QuantumCircuit(n_qubits + num_t, n_bits + num_t)\n",
    "        # Prepare magic states\n",
    "        for idx in range(num_t):\n",
    "            circuit.h(n_qubits + idx)\n",
    "            circuit.t(n_qubits + idx)\n",
    "\n",
    "    # Random circuit of CNOT, H, S and T gates\n",
    "    qubit_indices = list(range(n_qubits))\n",
    "    \n",
    "    for idx in range(n_qubits):\n",
    "        circuit.h(idx)\n",
    "    \n",
    "    for idx in range(num_t):\n",
    "        cnot_a, cnot_b, h, s, t = rnd_state.choice(qubit_indices, 5, replace=False)\n",
    "        circuit.cx(cnot_a, cnot_b)\n",
    "        circuit.h(h)\n",
    "        circuit.s(s)\n",
    "        if not t_gadget:\n",
    "            circuit.t(t)\n",
    "        elif not randomize:\n",
    "            circuit.cnot(t, n_qubits + idx)\n",
    "        else:\n",
    "            circuit.cnot(t, n_qubits + idx)\n",
    "            if rnd_state_s.randint(2): # apply t-gadget adaptive correction\n",
    "                circuit.s(t)\n",
    "                circuit.x(n_qubits + idx)\n",
    "\n",
    "    return circuit"
   ]
  },
  {
   "cell_type": "markdown",
   "metadata": {},
   "source": [
    "Let us print a random Clifford+T circuit:"
   ]
  },
  {
   "cell_type": "code",
   "execution_count": 27,
   "metadata": {},
   "outputs": [
    {
     "name": "stdout",
     "output_type": "stream",
     "text": [
      "     ┌───┐┌───┐          ┌───┐┌───┐┌───┐          \n",
      "q_0: ┤ H ├┤ X ├───────■──┤ S ├┤ T ├┤ T ├──────────\n",
      "     ├───┤└─┬─┘┌───┐  │  ├───┤└───┘├───┤┌───┐     \n",
      "q_1: ┤ H ├──┼──┤ H ├──┼──┤ H ├──■──┤ X ├┤ S ├─────\n",
      "     ├───┤  │  └───┘┌─┴─┐├───┤  │  └─┬─┘├───┤┌───┐\n",
      "q_2: ┤ H ├──■───────┤ X ├┤ T ├──┼────┼──┤ H ├┤ X ├\n",
      "     ├───┤┌───┐┌───┐└───┘└───┘┌─┴─┐  │  ├───┤└─┬─┘\n",
      "q_3: ┤ H ├┤ S ├┤ T ├──────────┤ X ├──■──┤ H ├──┼──\n",
      "     ├───┤├───┤├───┤┌───┐┌───┐└───┘     └───┘  │  \n",
      "q_4: ┤ H ├┤ T ├┤ S ├┤ H ├┤ S ├─────────────────■──\n",
      "     └───┘└───┘└───┘└───┘└───┘                    \n",
      "c: 5/═════════════════════════════════════════════\n",
      "                                                  \n"
     ]
    }
   ],
   "source": [
    "circuit = rnd_clifford_t_circuit(n_qubits=n_qubits, n_bits=n_bits, num_t=num_t, t_gadget=False, seed=0)\n",
    "print(circuit)"
   ]
  },
  {
   "cell_type": "markdown",
   "metadata": {},
   "source": [
    "Let us print the corresponding T-gadget version (assuming auxiliary qubits are projected on the zero state)."
   ]
  },
  {
   "cell_type": "code",
   "execution_count": 28,
   "metadata": {},
   "outputs": [
    {
     "name": "stdout",
     "output_type": "stream",
     "text": [
      "      ┌───┐┌───┐          ┌───┐                                   \n",
      " q_0: ┤ H ├┤ X ├───────■──┤ S ├──────────────────────■────■───────\n",
      "      ├───┤└─┬─┘┌───┐  │  ├───┤          ┌───┐┌───┐  │    │       \n",
      " q_1: ┤ H ├──┼──┤ H ├──┼──┤ H ├──■───────┤ X ├┤ S ├──┼────┼───────\n",
      "      ├───┤  │  └───┘┌─┴─┐└───┘  │       └─┬─┘├───┤  │    │  ┌───┐\n",
      " q_2: ┤ H ├──■───────┤ X ├───────┼────■────┼──┤ H ├──┼────┼──┤ X ├\n",
      "      ├───┤┌───┐     └───┘     ┌─┴─┐  │    │  ├───┤  │    │  └─┬─┘\n",
      " q_3: ┤ H ├┤ S ├───────■───────┤ X ├──┼────■──┤ H ├──┼────┼────┼──\n",
      "      ├───┤└───┘       │  ┌───┐├───┤  │  ┌───┐└───┘  │    │    │  \n",
      " q_4: ┤ H ├───────■────┼──┤ S ├┤ H ├──┼──┤ S ├───────┼────┼────■──\n",
      "      ├───┤┌───┐┌─┴─┐  │  └───┘└───┘  │  └───┘       │    │       \n",
      " q_5: ┤ H ├┤ T ├┤ X ├──┼──────────────┼──────────────┼────┼───────\n",
      "      ├───┤├───┤└───┘┌─┴─┐            │              │    │       \n",
      " q_6: ┤ H ├┤ T ├─────┤ X ├────────────┼──────────────┼────┼───────\n",
      "      ├───┤├───┤     └───┘          ┌─┴─┐            │    │       \n",
      " q_7: ┤ H ├┤ T ├────────────────────┤ X ├────────────┼────┼───────\n",
      "      ├───┤├───┤                    └───┘          ┌─┴─┐  │       \n",
      " q_8: ┤ H ├┤ T ├───────────────────────────────────┤ X ├──┼───────\n",
      "      ├───┤├───┤                                   └───┘┌─┴─┐     \n",
      " q_9: ┤ H ├┤ T ├────────────────────────────────────────┤ X ├─────\n",
      "      └───┘└───┘                                        └───┘     \n",
      "c: 10/════════════════════════════════════════════════════════════\n",
      "                                                                  \n"
     ]
    }
   ],
   "source": [
    "circuit_with_gadgets = rnd_clifford_t_circuit(n_qubits=n_qubits, n_bits=n_bits, num_t=num_t, t_gadget=True, seed=0)\n",
    "print(circuit_with_gadgets)"
   ]
  },
  {
   "cell_type": "markdown",
   "metadata": {},
   "source": [
    "## Execute the circuit"
   ]
  },
  {
   "cell_type": "markdown",
   "metadata": {},
   "source": [
    "First we evaluate an expectation value as usual, i.e., without T-gadgets."
   ]
  },
  {
   "cell_type": "code",
   "execution_count": 29,
   "metadata": {},
   "outputs": [],
   "source": [
    "def compute_pauli_expval_with_shots(circuit, pauli, shots):\n",
    "    \"\"\"Compute the expectation value of a Pauli observable in the Z basis.\n",
    "    \"\"\"\n",
    "    if not set(pauli).issubset(set(\"IZ\")):\n",
    "        raise ValueError(\"The input pauli must contain only I or Z terms. E.g. IZZIZ.\")\n",
    "    circuit_to_measure = circuit.copy()\n",
    "    circuit_to_measure.measure_all()\n",
    "    \n",
    "    #backend = AerSimulator(method='extended_stabilizer')\n",
    "    backend = qiskit.Aer.get_backend('aer_simulator_statevector')\n",
    "    job = backend.run(circuit_to_measure, shots=shots)\n",
    "    result = job.result()\n",
    "    if not result.success:\n",
    "        print(\"Simulation failed\")\n",
    "        \n",
    "    unnormalized_exp_val = 0\n",
    "    for key, counts in result.get_counts().items():\n",
    "        ones_on_z = [1 for bit, p in zip(key, pauli) if (bit==\"1\" and p==\"Z\")]\n",
    "        parity = sum(ones_on_z) % 2\n",
    "        unnormalized_exp_val += counts * (-1) ** parity\n",
    "    \n",
    "    return unnormalized_exp_val / shots\n"
   ]
  },
  {
   "cell_type": "code",
   "execution_count": 30,
   "metadata": {},
   "outputs": [
    {
     "data": {
      "text/plain": [
       "-0.7107"
      ]
     },
     "execution_count": 30,
     "metadata": {},
     "output_type": "execute_result"
    }
   ],
   "source": [
    "pauli_to_measure = \"ZIIII\"\n",
    "circuit = rnd_clifford_t_circuit(n_qubits=n_qubits, n_bits=n_bits, num_t=num_t, t_gadget=False, seed=0)\n",
    "compute_pauli_expval_with_shots(circuit, pauli=pauli_to_measure, shots=shots)"
   ]
  },
  {
   "cell_type": "code",
   "execution_count": 31,
   "metadata": {},
   "outputs": [
    {
     "name": "stdout",
     "output_type": "stream",
     "text": [
      "-0.707106781186547\n"
     ]
    }
   ],
   "source": [
    "def compute_pauli_expval_with_state(circuit, pauli):\n",
    "    \"\"\"Compute the expectation value of a Pauli observable in the Z basis.\n",
    "    \"\"\"\n",
    "    \n",
    "    circuit_to_measure = circuit.copy()\n",
    "    circuit_to_measure.save_density_matrix()\n",
    "    \n",
    "    #backend = AerSimulator(method='extended_stabilizer')\n",
    "    backend = qiskit.Aer.get_backend('aer_simulator_statevector')\n",
    "    job = backend.run(circuit_to_measure)\n",
    "    result = job.result()\n",
    "      \n",
    "    if not result.success:\n",
    "        print(\"Simulation failed\")\n",
    "    \n",
    "    rho = result.data()[\"density_matrix\"]\n",
    "    obs = qiskit.quantum_info.Pauli(pauli).to_matrix()\n",
    "    return chop_and_real(np.trace(rho @ obs))\n",
    "\n",
    "pauli_to_measure = \"ZIIII\"\n",
    "circuit = rnd_clifford_t_circuit(n_qubits=n_qubits, n_bits=n_bits, num_t=num_t, t_gadget=False, seed=0)\n",
    "print(compute_pauli_expval_with_state(circuit, pauli=pauli_to_measure))"
   ]
  },
  {
   "cell_type": "markdown",
   "metadata": {},
   "source": [
    "# T-gadget simulation"
   ]
  },
  {
   "cell_type": "markdown",
   "metadata": {},
   "source": [
    "We remove all T gates to get a clifford circuit."
   ]
  },
  {
   "cell_type": "code",
   "execution_count": 32,
   "metadata": {},
   "outputs": [
    {
     "data": {
      "text/plain": [
       "-0.707106781186547"
      ]
     },
     "execution_count": 32,
     "metadata": {},
     "output_type": "execute_result"
    }
   ],
   "source": [
    "def compute_pauli_expval_with_gadget(circuit, pauli):\n",
    "    \"\"\"Compute the expectation value of a Pauli observable in the Z basis.\n",
    "    \"\"\"\n",
    "\n",
    "    circuit_to_measure = circuit.copy()\n",
    "    circuit_to_measure.save_density_matrix()\n",
    "\n",
    "    #backend = AerSimulator(method='extended_stabilizer')\n",
    "    backend = qiskit.Aer.get_backend('aer_simulator_statevector')\n",
    "    job = backend.run(circuit_to_measure)\n",
    "    result = job.result()\n",
    "\n",
    "    if not result.success:\n",
    "        print(\"Simulation failed\")\n",
    "\n",
    "    rho = result.data()[\"density_matrix\"]\n",
    "    \n",
    "    extended_pauli = num_t*\"I\" + pauli\n",
    "    obs = qiskit.quantum_info.Pauli(extended_pauli).to_matrix()\n",
    "    \n",
    "    # Define projector on gadget qubits\n",
    "    id_on_sys = np.eye(2 ** n_qubits)\n",
    "    proj_on_zero_aux = np.zeros((2 ** num_t, 2 ** num_t))\n",
    "    proj_on_zero_aux[0, 0] = 1\n",
    "    \n",
    "    gadjet_projector = np.kron(proj_on_zero_aux, id_on_sys)\n",
    "    return (2 ** num_t) * chop_and_real(np.trace(rho @ obs @ gadjet_projector))\n",
    "\n",
    "circuit_without_t = rnd_clifford_t_circuit(n_qubits=n_qubits, n_bits=n_bits, num_t=num_t, t_gadget=True, randomize=True, seed=0, seed_s = 1)\n",
    "compute_pauli_expval_with_gadget(circuit_without_t, pauli=\"ZIIII\")"
   ]
  },
  {
   "cell_type": "markdown",
   "metadata": {},
   "source": [
    "## Test equivalence between direct simulation and T-gadget simulation"
   ]
  },
  {
   "cell_type": "markdown",
   "metadata": {},
   "source": [
    "To compare the two methods we generate a list random Pauli strings and we evaluate their expectation values with both methods."
   ]
  },
  {
   "cell_type": "code",
   "execution_count": 33,
   "metadata": {},
   "outputs": [
    {
     "name": "stdout",
     "output_type": "stream",
     "text": [
      "100 random Paulis sampled.\n"
     ]
    }
   ],
   "source": [
    "sampled_paulis = sample_pauli_strings(100, n_qubits=n_qubits, with_replacement=False)\n",
    "print(f\"{len(sampled_paulis)} random Paulis sampled.\")"
   ]
  },
  {
   "cell_type": "code",
   "execution_count": 34,
   "metadata": {},
   "outputs": [
    {
     "name": "stdout",
     "output_type": "stream",
     "text": [
      "Pauli: IZIYI \texpval_direct: -0.7071 \texpval_with_gadget: -0.7071\n",
      "Pauli: IIZXI \texpval_direct: 0.3536 \texpval_with_gadget: 0.3536\n",
      "Pauli: IIZXX \texpval_direct: -0.3536 \texpval_with_gadget: -0.3536\n",
      "Pauli: IZYYX \texpval_direct: 0.3536 \texpval_with_gadget: 0.3536\n",
      "Pauli: XZXIX \texpval_direct: -0.7071 \texpval_with_gadget: -0.7071\n",
      "Pauli: YZZXI \texpval_direct: 0.3536 \texpval_with_gadget: 0.3536\n",
      "Pauli: ZZYXX \texpval_direct: -0.5 \texpval_with_gadget: -0.5\n"
     ]
    }
   ],
   "source": [
    "for pauli in sampled_paulis:\n",
    "    circuit = rnd_clifford_t_circuit(n_qubits=n_qubits, n_bits=n_bits, num_t=num_t, seed=0)\n",
    "    circuit_with_gadget = rnd_clifford_t_circuit(n_qubits=n_qubits, n_bits=n_bits, num_t=num_t, t_gadget=True, seed=0)\n",
    "\n",
    "    expval_direct = compute_pauli_expval_with_state(circuit, pauli)\n",
    "    expval_with_gadget = compute_pauli_expval_with_gadget(circuit_with_gadget, pauli)\n",
    "    \n",
    "    # Skip zero expectation values\n",
    "    if np.isclose(expval_direct, 0.0) and np.isclose(expval_with_gadget, 0.0):\n",
    "        continue\n",
    "    \n",
    "    print(f\"Pauli: {pauli} \\texpval_direct: {expval_direct:.4} \\texpval_with_gadget: {expval_with_gadget:.4}\")"
   ]
  },
  {
   "cell_type": "markdown",
   "metadata": {},
   "source": [
    "## Linear combination of paulis\n",
    "\n",
    "We want to compute $E= {\\rm tr}(\\rho P)$, where $\\rho=U |0\\dots0 \\rangle_{\\rm sys} \\langle 0\\dots 0|_{\\rm sys} U^\\dagger$ and $P$ is a Pauli operator.\n",
    "\n",
    "The previous code shows that, through T-gadgets, we can evaluate the same expectation value as:\n",
    "\n",
    "$$E= 2^t \\, {\\rm tr}[\\rho' (P \\otimes |0\\dots0 \\rangle_{\\rm aux} \\langle 0\\dots 0|_{\\rm aux}) ],$$\n",
    "\n",
    "where $$\\rho'= U' (|0\\dots0 \\rangle_{\\rm sys}\\langle 0\\dots 0|_{\\rm sys} \\otimes |T\\dots T \\rangle_{\\rm aux}  \\langle T\\dots T|_{\\rm aux}) U'^\\dagger,$$\n",
    "\n",
    "$|T\\rangle = T\\, H\\, |0\\rangle$ is a magic state and, **importantly**, $U'$ is a Clifford circuit..\n",
    "\n",
    "If the observable is a Pauli operator, can we try to use an Heisenberg-picture-like approach to evaluate its expectation value?\n",
    "\n",
    "This requires expanding final zero-state-projector on the auxiliary qubits as a linear combination of Pauli strings. We use:\n",
    "\n",
    "$$ |0\\dots 0 \\rangle \\langle 0\\dots 0| = \\prod_{j=1}^{t} \\frac{(I_j + Z_j)}{2}=\\frac{1}{2^t}\\sum_{b \\in \\{0, 1\\}^{\\otimes t}} Z^{b_1}Z^{b_2}\\dots Z^{b_t}. $$\n",
    "\n",
    "So it is possible to expand $P \\otimes |0\\dots0 \\rangle_{\\rm aux} \\langle 0\\dots 0|_{\\rm aux}$ as a linear combination of Pauli strings. Unfortunately the number of terms is $2^t$, so exponential in $t$."
   ]
  },
  {
   "cell_type": "code",
   "execution_count": 35,
   "metadata": {},
   "outputs": [],
   "source": [
    "def paulis_of_zero_projector(n_qubits: int):\n",
    "    \"\"\"Returns a list of pauli strings corresponding (up to normalization)\n",
    "    to the projector on the zero state of n_qubits\"\"\"\n",
    "    paulis = [\"I\", \"Z\"]\n",
    "    for _ in range(n_qubits - 1):\n",
    "        new_paulis = []\n",
    "        for pauli in paulis:\n",
    "            new_paulis.append(pauli + \"I\")\n",
    "            new_paulis.append(pauli + \"Z\")\n",
    "        paulis = new_paulis\n",
    "    # Sort from few Zs to many Zs\n",
    "    return sorted(paulis, key=lambda x: sum([int(c==\"Z\") for c in x]))"
   ]
  },
  {
   "cell_type": "code",
   "execution_count": 14,
   "metadata": {},
   "outputs": [],
   "source": [
    "def compute_pauli_expval_with_gadget_and_linear_comb(circuit, pauli):\n",
    "    \"\"\"Compute the expectation value of a Pauli observable in the Z basis.\n",
    "    \n",
    "    Returns: The expectation value and also individual terms before averaging.\n",
    "    \"\"\"\n",
    "    circuit_to_measure = circuit.copy()\n",
    "    circuit_to_measure.save_density_matrix()\n",
    "        \n",
    "    backend = qiskit.Aer.get_backend('aer_simulator_statevector')\n",
    "    job = backend.run(circuit_to_measure)\n",
    "    result = job.result()\n",
    "    if not result.success:\n",
    "        print(\"Simulation failed\")\n",
    "    rho = result.data()[\"density_matrix\"]\n",
    "    \n",
    "    # Expand zero-state projector on gadget qubits\n",
    "    all_paulis = [Pauli(p + pauli) for p in paulis_of_zero_projector(num_t)]\n",
    "    \n",
    "    all_expvals = chop_and_real([np.trace(rho @ p.to_matrix()) for p in all_paulis])\n",
    "\n",
    "    return np.sum(all_expvals), all_expvals, "
   ]
  },
  {
   "cell_type": "code",
   "execution_count": 15,
   "metadata": {},
   "outputs": [
    {
     "name": "stdout",
     "output_type": "stream",
     "text": [
      "Expval (IZIYI): -0.707107\n",
      "Expval (IIZXI): 0.353553\n",
      "Expval (IIZXX): -0.353553\n",
      "Expval (IZYYX): 0.353553\n",
      "Expval (XZXIX): -0.707107\n",
      "Expval (YZZXI): 0.353553\n",
      "Expval (ZZYXX): -0.5\n"
     ]
    }
   ],
   "source": [
    "# Make circuits\n",
    "heavy_all_expvals = []\n",
    "heavy_expvals = []\n",
    "heavy_paulis = []\n",
    "for _pauli in sampled_paulis:\n",
    "    # First try direct simulation\n",
    "    plain_circuit = rnd_clifford_t_circuit(n_qubits=n_qubits, n_bits=n_bits, num_t=num_t, t_gadget=False, randomize=False, seed=0)\n",
    "    plain_expval = compute_pauli_expval_with_state(plain_circuit, _pauli)\n",
    "    if not np.isclose(plain_expval, 0.0):\n",
    "        # T-gadget simulation\n",
    "        circuit = rnd_clifford_t_circuit(n_qubits=n_qubits, n_bits=n_bits, num_t=num_t, t_gadget=True, randomize=False, seed=0)\n",
    "        estimate, all_expvals = compute_pauli_expval_with_gadget_and_linear_comb(circuit, pauli=_pauli)\n",
    "        assert np.isclose(estimate, plain_expval)\n",
    "        print(f\"Expval ({_pauli}): {estimate:g}\")\n",
    "        # Record data\n",
    "        heavy_paulis.append(_pauli)\n",
    "        heavy_expvals.append(estimate)\n",
    "        heavy_all_expvals.append(all_expvals)"
   ]
  },
  {
   "cell_type": "code",
   "execution_count": 16,
   "metadata": {},
   "outputs": [
    {
     "name": "stdout",
     "output_type": "stream",
     "text": [
      "7 heavy Paulis (7%) computed.\n"
     ]
    }
   ],
   "source": [
    "print(f\"{len(heavy_paulis)} heavy Paulis ({len(heavy_paulis)/len(sampled_paulis):.00%}) computed.\")"
   ]
  },
  {
   "cell_type": "code",
   "execution_count": 17,
   "metadata": {},
   "outputs": [],
   "source": [
    "# sort heavy paulis from large abs(expval) to small abs(expval)\n",
    "\n",
    "sorted_zip = sorted(zip(heavy_paulis, heavy_expvals, heavy_all_expvals), key=lambda x: -abs(x[1]))"
   ]
  },
  {
   "cell_type": "code",
   "execution_count": 18,
   "metadata": {},
   "outputs": [
    {
     "data": {
      "image/png": "[encoded data removed]",
      "text/plain": [
       "<Figure size 720x720 with 1 Axes>"
      ]
     },
     "metadata": {
      "needs_background": "light"
     },
     "output_type": "display_data"
    }
   ],
   "source": [
    "plt.figure(figsize=(10, 10))\n",
    "shift = 0.0\n",
    "for _pauli, expval, all_expvals in sorted_zip[:10]:\n",
    "        shift += 0.0005\n",
    "        plt.plot(all_expvals + shift, marker=\"o\", linestyle=\"None\", label=_pauli +f\" ({expval:g})\", alpha=0.3)\n",
    "        plt.legend(bbox_to_anchor=(1.14, 1))\n",
    "plt.show()"
   ]
  },
  {
   "cell_type": "code",
   "execution_count": 19,
   "metadata": {},
   "outputs": [
    {
     "data": {
      "text/plain": [
       "(array([2., 1., 0., 1., 0., 0., 0., 0., 0., 3.]),\n",
       " array([-0.70710678, -0.60104076, -0.49497475, -0.38890873, -0.28284271,\n",
       "        -0.1767767 , -0.07071068,  0.03535534,  0.14142136,  0.24748737,\n",
       "         0.35355339]),\n",
       " <BarContainer object of 10 artists>)"
      ]
     },
     "execution_count": 19,
     "metadata": {},
     "output_type": "execute_result"
    },
    {
     "data": {
      "image/png": "[encoded data removed]",
      "text/plain": [
       "<Figure size 432x288 with 1 Axes>"
      ]
     },
     "metadata": {
      "needs_background": "light"
     },
     "output_type": "display_data"
    }
   ],
   "source": [
    "plt.hist(heavy_expvals)"
   ]
  },
  {
   "cell_type": "code",
   "execution_count": 20,
   "metadata": {},
   "outputs": [
    {
     "name": "stdout",
     "output_type": "stream",
     "text": [
      "   ┌───┐┌───┐\n",
      "q: ┤ H ├┤ T ├\n",
      "   └───┘└───┘\n"
     ]
    }
   ],
   "source": [
    "t_circuit = QuantumCircuit(1)\n",
    "t_circuit.h(0)\n",
    "t_circuit.t(0)\n",
    "print(t_circuit)"
   ]
  },
  {
   "cell_type": "code",
   "execution_count": 21,
   "metadata": {},
   "outputs": [
    {
     "name": "stdout",
     "output_type": "stream",
     "text": [
      "<I>: 0.9999999999999999\n",
      "<X>: 0.7071067811865475\n",
      "<Y>: 0.7071067811865475\n",
      "<Z>: 0.0\n"
     ]
    }
   ],
   "source": [
    "for p in [\"I\", \"X\", \"Y\", \"Z\"]:\n",
    "    print(f\"<{p}>:\", compute_pauli_expval_with_state(t_circuit, p))"
   ]
  },
  {
   "cell_type": "code",
   "execution_count": 22,
   "metadata": {},
   "outputs": [
    {
     "data": {
      "text/plain": [
       "0.3535533905932737"
      ]
     },
     "execution_count": 22,
     "metadata": {},
     "output_type": "execute_result"
    }
   ],
   "source": [
    "0.7071067811865475 ** 3"
   ]
  }
 ],
 "metadata": {
  "kernelspec": {
   "display_name": "Python 3",
   "language": "python",
   "name": "python3"
  },
  "language_info": {
   "codemirror_mode": {
    "name": "ipython",
    "version": 3
   },
   "file_extension": ".py",
   "mimetype": "text/x-python",
   "name": "python",
   "nbconvert_exporter": "python",
   "pygments_lexer": "ipython3",
   "version": "3.7.7"
  }
 },
 "nbformat": 4,
 "nbformat_minor": 2
}
