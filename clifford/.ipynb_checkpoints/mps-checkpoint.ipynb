{
 "cells": [
  {
   "cell_type": "markdown",
   "metadata": {},
   "source": [
    "# Classical simulation of Clifford-dominated circuits"
   ]
  },
  {
   "cell_type": "markdown",
   "metadata": {},
   "source": [
    "## Setting"
   ]
  },
  {
   "cell_type": "code",
   "execution_count": 28,
   "metadata": {},
   "outputs": [],
   "source": [
    "from qiskit import QuantumCircuit, execute\n",
    "from qiskit.providers.aer import QasmSimulator\n",
    "import numpy as np\n",
    "\n",
    "\n",
    "BACKEND = QasmSimulator()\n",
    "N_QUBITS = 12\n",
    "N_BITS = N_QUBITS\n",
    "NUM_T = 50\n",
    "SHOTS = 100"
   ]
  },
  {
   "cell_type": "markdown",
   "metadata": {},
   "source": [
    "## Generate a random _Clifford-dominated_ circuit."
   ]
  },
  {
   "cell_type": "code",
   "execution_count": 29,
   "metadata": {},
   "outputs": [],
   "source": [
    "def rnd_cliff_dom_circuit(n_qubits, n_bits, num_t, seed = None):\n",
    "    \"\"\"Makes a random circuit dominated by Clifford gates.\"\"\"\n",
    "\n",
    "    # init rnd number generator\n",
    "    if seed is None:\n",
    "        rnd_state = np.random\n",
    "    else:\n",
    "        rnd_state = np.random.RandomState(seed)\n",
    "    \n",
    "    # init circuit\n",
    "    circuit = QuantumCircuit(n_qubits, n_bits)\n",
    "\n",
    "    # Hadamard layer\n",
    "    circuit.h(range(n_qubits))\n",
    "    \n",
    "    # Random circuit of CNOT and T gates\n",
    "    qubit_indices = list(range(n_qubits))\n",
    "    for i in range(num_t):\n",
    "        control, target, t = np.random.choice(qubit_indices, 3, replace=False)\n",
    "        circuit.cx(control, target)\n",
    "        circuit.t(t)\n",
    "        \n",
    "    # append inverse\n",
    "    circuit += circuit.inverse()\n",
    "    \n",
    "    # add measurements\n",
    "    circuit.measure(range(N_BITS),range(N_BITS))\n",
    "    return circuit\n",
    "\n",
    "def compute_expval(job):\n",
    "    \"\"\"Compute the expectation value of the |0><0| observable \n",
    "    (on the measured subspace).\n",
    "    \"\"\"\n",
    "    results = job.result()\n",
    "    counts = results.get_counts()\n",
    "    bit_string = \"0\" * N_BITS\n",
    "    if bit_string in counts:\n",
    "        return counts[\"0\" * N_BITS] / SHOTS\n",
    "    return 0.0\n",
    "\n",
    "circuit = rnd_cliff_dom_circuit(n_qubits=N_QUBITS, n_bits=N_BITS, num_t=NUM_T, seed = 0)"
   ]
  },
  {
   "cell_type": "markdown",
   "metadata": {},
   "source": [
    "## Execute the circuit with different methods"
   ]
  },
  {
   "cell_type": "markdown",
   "metadata": {},
   "source": [
    "Next cell uses the `'statevector'` method and so it may fail because the RAM is not enough."
   ]
  },
  {
   "cell_type": "code",
   "execution_count": 23,
   "metadata": {},
   "outputs": [
    {
     "name": "stdout",
     "output_type": "stream",
     "text": [
      "Survival probability:  1.0\n",
      "CPU times: user 51.9 s, sys: 237 ms, total: 52.1 s\n",
      "Wall time: 4.48 s\n"
     ]
    }
   ],
   "source": [
    "%%time\n",
    "backend_options={\n",
    "    'method': 'density_matrix'\n",
    "}\n",
    "job = execute(circuit, BACKEND, backend_options=backend_options, shots=SHOTS, optimization_level=0)\n",
    "if job.result().success:\n",
    "    print(\"Survival probability: \", compute_expval(job))\n",
    "else:\n",
    "    print(\"Simulation failed\")"
   ]
  },
  {
   "cell_type": "markdown",
   "metadata": {},
   "source": [
    "Next cell uses the `'stabilizer'` method and fails if any non-Clifford gate (e.g. `circ.t`) is in the circuit."
   ]
  },
  {
   "cell_type": "code",
   "execution_count": 24,
   "metadata": {},
   "outputs": [
    {
     "name": "stdout",
     "output_type": "stream",
     "text": [
      "Simulation failed\n",
      "CPU times: user 65.9 ms, sys: 3.91 ms, total: 69.8 ms\n",
      "Wall time: 69.1 ms\n"
     ]
    }
   ],
   "source": [
    "%%time\n",
    "backend_options={\n",
    "    'method': 'stabilizer',\n",
    "}\n",
    "job = execute(circuit, BACKEND, backend_options=backend_options, shots=SHOTS, optimization_level=0)\n",
    "if job.result().success:\n",
    "    print(\"Survival probability: \", compute_expval(job))\n",
    "else:\n",
    "    print(\"Simulation failed\")"
   ]
  },
  {
   "cell_type": "markdown",
   "metadata": {},
   "source": [
    "## Add some noise"
   ]
  },
  {
   "cell_type": "code",
   "execution_count": 25,
   "metadata": {},
   "outputs": [],
   "source": [
    "# Noise simulation packages\n",
    "from qiskit.providers.aer.noise import NoiseModel\n",
    "from qiskit.providers.aer.noise.errors.standard_errors import (\n",
    "    depolarizing_error,\n",
    ")"
   ]
  },
  {
   "cell_type": "code",
   "execution_count": 27,
   "metadata": {},
   "outputs": [
    {
     "name": "stdout",
     "output_type": "stream",
     "text": [
      "Survival probability:  0.0\n",
      "CPU times: user 1min 4s, sys: 48.3 ms, total: 1min 4s\n",
      "Wall time: 5.84 s\n"
     ]
    }
   ],
   "source": [
    "%%time\n",
    "\n",
    "NOISE_LEVEL = 0.9\n",
    "noise_model = NoiseModel()\n",
    "\n",
    "noise_model.add_all_qubit_quantum_error(\n",
    "        depolarizing_error(NOISE_LEVEL, 1), [\"t\", \"h\"]\n",
    ")\n",
    "noise_model.add_all_qubit_quantum_error(\n",
    "       depolarizing_error(NOISE_LEVEL, 2), [\"cx\"]\n",
    ")\n",
    "\n",
    "backend_options={\n",
    "    'method': 'matrix_product_state',\n",
    "    'extended_stabilizer_approximation_error': 0.05 # default is 0.05\n",
    "}\n",
    "job = execute(circuit,\n",
    "              BACKEND,\n",
    "              backend_options=backend_options,\n",
    "              shots=SHOTS,\n",
    "              noise_model = noise_model,\n",
    "              #basis_gates = noise_model.basis_gates,\n",
    "              #basis_gates = [\"u1\", \"u2\", \"u3\", 'cx'],\n",
    "              optimization_level=0,\n",
    "                    )\n",
    "if job.result().success:\n",
    "    print(\"Survival probability: \", compute_expval(job))\n",
    "else:\n",
    "    print(\"Simulation failed\")"
   ]
  },
  {
   "cell_type": "code",
   "execution_count": null,
   "metadata": {},
   "outputs": [],
   "source": []
  }
 ],
 "metadata": {
  "kernelspec": {
   "display_name": "Python 3",
   "language": "python",
   "name": "python3"
  },
  "language_info": {
   "codemirror_mode": {
    "name": "ipython",
    "version": 3
   },
   "file_extension": ".py",
   "mimetype": "text/x-python",
   "name": "python",
   "nbconvert_exporter": "python",
   "pygments_lexer": "ipython3",
   "version": "3.7.4"
  }
 },
 "nbformat": 4,
 "nbformat_minor": 2
}
