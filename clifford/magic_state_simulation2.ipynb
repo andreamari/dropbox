{
 "cells": [
  {
   "cell_type": "markdown",
   "metadata": {},
   "source": [
    "# Magic states and T-gadgets with Qiskit"
   ]
  },
  {
   "cell_type": "markdown",
   "metadata": {},
   "source": [
    "## Theory\n",
    "\n",
    "\n",
    "Assume that we want to prepare (or simulate) \n",
    "$$\\rho=U |0\\dots0 \\rangle_{\\rm sys} \\langle 0\\dots 0|_{\\rm sys} U^\\dagger,$$\n",
    "\n",
    "where $U$ is an arbitrary circuit compiled into the $H$, $S$, $CNOT$, $T$ gateset.\n",
    "\n",
    "Assume that the number of $T$ gates, also known as T-count, is $t$.\n",
    "\n",
    "Using magic states and T-gadgets, it can be shown [Bravyi, Gosset (2016)](https://arxiv.org/abs/1601.07601) that:\n",
    "\n",
    "$$\\rho = 2^t \\, {\\rm tr_{aux}}[\\rho' (I \\otimes |0\\dots0 \\rangle_{\\rm aux} \\langle 0\\dots 0|_{\\rm aux}) ],$$\n",
    "\n",
    "where $$\\rho'= U' (|0\\dots0 \\rangle_{\\rm sys}\\langle 0\\dots 0|_{\\rm sys} \\otimes |T\\dots T \\rangle_{\\rm aux}  \\langle T\\dots T|_{\\rm aux}) U'^\\dagger,$$\n",
    "\n",
    "$|T\\dots T \\rangle_{\\rm aux}  \\langle T\\dots T|_{\\rm aux}$ is the tensor product of $t$ magic states.\n",
    "\n",
    "$$|T\\rangle = T\\, H\\, |0\\rangle, \\text{ (magic state)}$$  \n",
    "\n",
    "and, **importantly**, $U'$ is a Clifford circuit.\n",
    "\n",
    "More precisely, $U'$ is obtained from $U$ by replacing all $T$ gates with $CNOT$ gates connecting qubits of the system and magic states.\n",
    "\n",
    "**NOTE:** This is just a particular way of using T-gadgets and it corresponds to just a particular post-selected string of results on the auxiliary qubits (the string with $0 \\dots 0$).\n"
   ]
  },
  {
   "cell_type": "markdown",
   "metadata": {},
   "source": [
    "## Setting"
   ]
  },
  {
   "cell_type": "code",
   "execution_count": 1,
   "metadata": {},
   "outputs": [],
   "source": [
    "from copy import deepcopy\n",
    "\n",
    "import qiskit\n",
    "from qiskit import QuantumCircuit\n",
    "from qiskit.quantum_info import Pauli\n",
    "\n",
    "import numpy as np\n",
    "from matplotlib import pyplot as plt\n",
    "\n",
    "seed = 0\n",
    "n_qubits = 5\n",
    "n_bits = n_qubits\n",
    "num_t = 6\n",
    "num_paulis = 4 ** 5"
   ]
  },
  {
   "cell_type": "code",
   "execution_count": 2,
   "metadata": {},
   "outputs": [
    {
     "data": {
      "text/plain": [
       "'YYYYY'"
      ]
     },
     "execution_count": 2,
     "metadata": {},
     "output_type": "execute_result"
    }
   ],
   "source": [
    "def chop_and_real(x, eps = 1e-10):\n",
    "    \"\"\"Chop values of Numpy arrays.\"\"\"\n",
    "    y = np.copy(x)\n",
    "    y[np.abs(x) < eps] = 0\n",
    "    return np.real(y)\n",
    "\n",
    "def random_pauli_string(n_qubits, seed=None):\n",
    "    \"\"\"Sample a random pauli string. \"\"\"\n",
    "    if seed is None:\n",
    "        rnd_state = np.random\n",
    "    else:\n",
    "        rnd_state = np.random.RandomState(seed)  \n",
    "    rnd_paulis = rnd_state.choice([\"I\", \"X\", \"Y\", \"Z\"], n_qubits, replace=True)\n",
    "    return \"\".join(rnd_paulis)\n",
    "\n",
    "random_pauli_string(5)"
   ]
  },
  {
   "cell_type": "code",
   "execution_count": 3,
   "metadata": {},
   "outputs": [
    {
     "data": {
      "text/plain": [
       "['XZIIZ', 'IZXIY', 'YIXZI', 'IZXIZ', 'YYZXX']"
      ]
     },
     "execution_count": 3,
     "metadata": {},
     "output_type": "execute_result"
    }
   ],
   "source": [
    "def sample_pauli_strings(num_paulis, n_qubits, with_replacement=False, seed=0):\n",
    "    \"\"\"Returns a list of random Pauli strings sorted from many Is to few Is.\"\"\"\n",
    "    max_iterations = 10 ** 4\n",
    "    sampled_paulis = []\n",
    "\n",
    "    for j in range(max_iterations):\n",
    "        if len(sampled_paulis) == num_paulis:\n",
    "            sampled_paulis = sorted(\n",
    "                sampled_paulis, key=lambda x: -sum([int(c==\"I\") for c in x])\n",
    "            )\n",
    "            return sampled_paulis\n",
    "        \n",
    "        sampled_paulis.append(random_pauli_string(n_qubits, seed=seed+j))\n",
    "        \n",
    "        if not with_replacement:\n",
    "            sampled_paulis = list(set(sampled_paulis))\n",
    "            \n",
    "    raise RuntimeError(\"Max number of iterations reached.\")\n",
    "\n",
    "\n",
    "\n",
    "sample_pauli_strings(5, n_qubits=n_qubits)"
   ]
  },
  {
   "cell_type": "markdown",
   "metadata": {},
   "source": [
    "## Generate a random Clifford+T circuit."
   ]
  },
  {
   "cell_type": "code",
   "execution_count": 4,
   "metadata": {},
   "outputs": [],
   "source": [
    "def rnd_clifford_t_circuit(n_qubits, n_bits, num_t, t_gadget=False, randomize=False, seed=None, magic_prep=True, seed_s=None):\n",
    "    \"\"\"Makes a random circuit with Clifford gates and T gates.\"\"\"\n",
    "    \n",
    "    if n_qubits < 5:\n",
    "        raise ValueError(\"The number of qubits must be at least 5.\")\n",
    "    \n",
    "    # init rnd number generator\n",
    "    if seed is None:\n",
    "        rnd_state = np.random\n",
    "    else:\n",
    "        rnd_state = np.random.RandomState(seed)\n",
    "    \n",
    "    if seed is None:\n",
    "        rnd_state_s = np.random\n",
    "    else:\n",
    "        rnd_state_s = np.random.RandomState(seed_s)\n",
    "        \n",
    "    # Init circuit\n",
    "    if not t_gadget:\n",
    "        circuit = QuantumCircuit(n_qubits)\n",
    "    else:\n",
    "        circuit = QuantumCircuit(n_qubits + num_t)\n",
    "        # Prepare magic states\n",
    "        if magic_prep:\n",
    "            for idx in range(num_t):\n",
    "                circuit.h(n_qubits + idx)\n",
    "                circuit.t(n_qubits + idx)\n",
    "\n",
    "    # Random circuit of CNOT, H, S and T gates\n",
    "    qubit_indices = list(range(n_qubits))\n",
    "    \n",
    "    # Deterministic layer of Hadamards\n",
    "    for idx in range(n_qubits):\n",
    "        circuit.h(idx)\n",
    "    \n",
    "    # Random part of the circuit\n",
    "    for idx in range(num_t):\n",
    "        cnot_a, cnot_b, h, s, t = rnd_state.choice(qubit_indices, 5, replace=False)\n",
    "        circuit.cx(cnot_a, cnot_b)\n",
    "        circuit.h(h)\n",
    "        circuit.s(s)\n",
    "        if not t_gadget:\n",
    "            circuit.t(t)\n",
    "        elif not randomize:\n",
    "            circuit.cnot(t, n_qubits + idx)\n",
    "        else:\n",
    "            circuit.cnot(t, n_qubits + idx)\n",
    "            if rnd_state_s.randint(2): # apply t-gadget adaptive correction\n",
    "                circuit.s(t)\n",
    "                circuit.x(n_qubits + idx)\n",
    "\n",
    "    return circuit"
   ]
  },
  {
   "cell_type": "markdown",
   "metadata": {},
   "source": [
    "Let us print a random Clifford+T circuit:"
   ]
  },
  {
   "cell_type": "code",
   "execution_count": 5,
   "metadata": {},
   "outputs": [
    {
     "name": "stdout",
     "output_type": "stream",
     "text": [
      "     ┌───┐┌───┐          ┌───┐┌───┐┌───┐┌───┐          \n",
      "q_0: ┤ H ├┤ X ├───────■──┤ S ├┤ T ├┤ T ├┤ T ├──────────\n",
      "     ├───┤└─┬─┘┌───┐  │  ├───┤└───┘├───┤├───┤┌───┐     \n",
      "q_1: ┤ H ├──┼──┤ H ├──┼──┤ H ├──■──┤ X ├┤ S ├┤ S ├─────\n",
      "     ├───┤  │  └───┘┌─┴─┐├───┤  │  └─┬─┘├───┤├───┤     \n",
      "q_2: ┤ H ├──■───────┤ X ├┤ T ├──┼────┼──┤ H ├┤ X ├──■──\n",
      "     ├───┤┌───┐┌───┐└───┘└───┘┌─┴─┐  │  ├───┤└─┬─┘┌─┴─┐\n",
      "q_3: ┤ H ├┤ S ├┤ T ├──────────┤ X ├──■──┤ H ├──┼──┤ X ├\n",
      "     ├───┤├───┤├───┤┌───┐┌───┐└───┘     └───┘  │  ├───┤\n",
      "q_4: ┤ H ├┤ T ├┤ S ├┤ H ├┤ S ├─────────────────■──┤ H ├\n",
      "     └───┘└───┘└───┘└───┘└───┘                    └───┘\n"
     ]
    }
   ],
   "source": [
    "circuit = rnd_clifford_t_circuit(n_qubits=n_qubits, n_bits=n_bits, num_t=num_t, t_gadget=False, seed=seed)\n",
    "print(circuit)"
   ]
  },
  {
   "cell_type": "markdown",
   "metadata": {},
   "source": [
    "Let us print the corresponding T-gadget version (assuming auxiliary qubits are projected on the zero state)."
   ]
  },
  {
   "cell_type": "code",
   "execution_count": 6,
   "metadata": {
    "scrolled": true
   },
   "outputs": [],
   "source": [
    "circuit_with_gadgets = rnd_clifford_t_circuit(\n",
    "    n_qubits=n_qubits, n_bits=n_bits, num_t=num_t, t_gadget=True, seed=seed\n",
    ")\n",
    "# print(circuit_with_gadgets)"
   ]
  },
  {
   "cell_type": "markdown",
   "metadata": {},
   "source": [
    "## Execute the circuit"
   ]
  },
  {
   "cell_type": "code",
   "execution_count": 7,
   "metadata": {},
   "outputs": [
    {
     "name": "stdout",
     "output_type": "stream",
     "text": [
      "0.0\n"
     ]
    }
   ],
   "source": [
    "def compute_pauli_expval_with_state(circuit, pauli):\n",
    "    \"\"\"Compute the expectation value of a Pauli observable.\n",
    "    \"\"\"\n",
    "    backend = qiskit.Aer.get_backend('aer_simulator_statevector')\n",
    "\n",
    "    circuit_to_measure = circuit.copy()\n",
    "    circuit_to_measure.save_density_matrix()\n",
    "    \n",
    "    #backend = AerSimulator(method='extended_stabilizer')\n",
    "    job = backend.run(circuit_to_measure)\n",
    "    result = job.result()\n",
    "      \n",
    "    if not result.success:\n",
    "        print(\"Simulation failed\")\n",
    "    \n",
    "    rho = result.data()[\"density_matrix\"]\n",
    "    obs = qiskit.quantum_info.Pauli(pauli).to_matrix()\n",
    "    return chop_and_real(np.trace(rho @ obs))\n",
    "\n",
    "pauli_to_measure = \"Z\"+ \"\".join((n_qubits - 1) * [\"I\"])\n",
    "circuit = rnd_clifford_t_circuit(n_qubits=n_qubits, n_bits=n_bits, num_t=num_t, t_gadget=False, seed=seed)\n",
    "print(compute_pauli_expval_with_state(circuit, pauli=pauli_to_measure))"
   ]
  },
  {
   "cell_type": "markdown",
   "metadata": {},
   "source": [
    "# T-gadget simulation"
   ]
  },
  {
   "cell_type": "markdown",
   "metadata": {},
   "source": [
    "We remove all T gates to get a clifford circuit."
   ]
  },
  {
   "cell_type": "code",
   "execution_count": 8,
   "metadata": {},
   "outputs": [
    {
     "data": {
      "text/plain": [
       "0.0"
      ]
     },
     "execution_count": 8,
     "metadata": {},
     "output_type": "execute_result"
    }
   ],
   "source": [
    "def compute_pauli_expval_with_gadget(circuit, pauli):\n",
    "    \"\"\"Compute the expectation value of a Pauli observable.\n",
    "    \"\"\"\n",
    "\n",
    "    circuit_to_measure = circuit.copy()\n",
    "    circuit_to_measure.save_density_matrix()\n",
    "\n",
    "    #backend = AerSimulator(method='extended_stabilizer')\n",
    "    backend = qiskit.Aer.get_backend('aer_simulator_statevector')\n",
    "    job = backend.run(circuit_to_measure)\n",
    "    result = job.result()\n",
    "\n",
    "    if not result.success:\n",
    "        print(\"Simulation failed\")\n",
    "\n",
    "    rho = result.data()[\"density_matrix\"]\n",
    "    \n",
    "    extended_pauli = num_t*\"I\" + pauli\n",
    "    obs = qiskit.quantum_info.Pauli(extended_pauli).to_matrix()\n",
    "    \n",
    "    # Define projector on gadget qubits\n",
    "    id_on_sys = np.eye(2 ** n_qubits)\n",
    "    proj_on_zero_aux = np.zeros((2 ** num_t, 2 ** num_t))\n",
    "    proj_on_zero_aux[0, 0] = 1\n",
    "    \n",
    "    gadjet_projector = np.kron(proj_on_zero_aux, id_on_sys)\n",
    "    return (2 ** num_t) * chop_and_real(np.trace(rho @ obs @ gadjet_projector))\n",
    "\n",
    "circuit_without_t = rnd_clifford_t_circuit(\n",
    "    n_qubits=n_qubits, n_bits=n_bits, num_t=num_t, t_gadget=True, randomize=True, seed=seed, seed_s = 1\n",
    ")\n",
    "compute_pauli_expval_with_gadget(circuit_without_t, pauli=\"ZIIII\")"
   ]
  },
  {
   "cell_type": "markdown",
   "metadata": {},
   "source": [
    "## Test equivalence between direct simulation and T-gadget simulation"
   ]
  },
  {
   "cell_type": "markdown",
   "metadata": {},
   "source": [
    "To compare the two methods we generate a list random Pauli strings and we evaluate their expectation values with both methods."
   ]
  },
  {
   "cell_type": "code",
   "execution_count": 9,
   "metadata": {},
   "outputs": [
    {
     "name": "stdout",
     "output_type": "stream",
     "text": [
      "1024 random Paulis sampled.\n"
     ]
    }
   ],
   "source": [
    "sampled_paulis = sample_pauli_strings(num_paulis, n_qubits=n_qubits, with_replacement=False, seed=seed)\n",
    "print(f\"{len(sampled_paulis)} random Paulis sampled.\")"
   ]
  },
  {
   "cell_type": "code",
   "execution_count": 10,
   "metadata": {},
   "outputs": [
    {
     "name": "stdout",
     "output_type": "stream",
     "text": [
      "Pauli: IIIII \texpval_direct: 1.0\n",
      "Pauli: IIZII \texpval_direct: -0.5\n",
      "Pauli: IZIII \texpval_direct: -0.5\n",
      "Pauli: IIIYI \texpval_direct: -0.7071\n",
      "Pauli: XIIII \texpval_direct: -0.7071\n",
      "Pauli: IIIXI \texpval_direct: 0.7071\n",
      "Pauli: IIIIY \texpval_direct: -0.7071\n",
      "Pauli: IIIIX \texpval_direct: -0.7071\n",
      "Pauli: XIIIY \texpval_direct: 0.5\n",
      "Pauli: IIIXY \texpval_direct: -0.5\n",
      "Pauli: XIZII \texpval_direct: 0.7071\n",
      "Pauli: XIIXI \texpval_direct: -0.5\n",
      "Pauli: IIIXX \texpval_direct: -0.5\n",
      "Pauli: XIIIX \texpval_direct: 0.5\n",
      "Pauli: IZIIX \texpval_direct: 0.3536\n",
      "Pauli: IXYII \texpval_direct: 0.5\n",
      "Pauli: YZIII \texpval_direct: 0.5\n",
      "Pauli: XIIYI \texpval_direct: 0.5\n",
      "Pauli: IZIIY \texpval_direct: 0.3536\n",
      "Pauli: IIZIY \texpval_direct: 0.3536\n",
      "Pauli: IZZII \texpval_direct: 1.0\n",
      "Pauli: IIIYY \texpval_direct: 0.5\n",
      "Pauli: IZIYI \texpval_direct: 0.3536\n",
      "Pauli: XZIII \texpval_direct: 0.7071\n",
      "Pauli: YIZII \texpval_direct: 0.5\n",
      "Pauli: IIZYI \texpval_direct: 0.3536\n",
      "Pauli: IZIXI \texpval_direct: -0.3536\n",
      "Pauli: IIIYX \texpval_direct: 0.5\n",
      "Pauli: IYXII \texpval_direct: 0.5\n",
      "Pauli: IIZIX \texpval_direct: 0.3536\n",
      "Pauli: IIZXI \texpval_direct: -0.3536\n",
      "Pauli: IYXIX \texpval_direct: -0.3536\n",
      "Pauli: XIZYI \texpval_direct: -0.5\n",
      "Pauli: IXYIY \texpval_direct: -0.3536\n",
      "Pauli: IZIYX \texpval_direct: -0.25\n",
      "Pauli: YYXII \texpval_direct: 0.5\n",
      "Pauli: XIZXI \texpval_direct: 0.5\n",
      "Pauli: IXYXI \texpval_direct: 0.3536\n",
      "Pauli: IZZYI \texpval_direct: -0.7071\n",
      "Pauli: XZIIY \texpval_direct: -0.5\n",
      "Pauli: IZIYY \texpval_direct: -0.25\n",
      "Pauli: XXYII \texpval_direct: -0.7071\n",
      "Pauli: YZIXI \texpval_direct: 0.3536\n",
      "Pauli: XZZII \texpval_direct: -0.7071\n",
      "Pauli: IIZYY \texpval_direct: -0.25\n",
      "Pauli: YXYII \texpval_direct: 0.5\n",
      "Pauli: XIIXX \texpval_direct: 0.3536\n",
      "Pauli: XIZIX \texpval_direct: -0.5\n",
      "Pauli: YIZIX \texpval_direct: -0.3536\n",
      "Pauli: IXYIX \texpval_direct: -0.3536\n",
      "Pauli: XYXII \texpval_direct: -0.7071\n",
      "Pauli: XIZIY \texpval_direct: -0.5\n",
      "Pauli: IYXXI \texpval_direct: 0.3536\n",
      "Pauli: IZIXX \texpval_direct: 0.25\n",
      "Pauli: YIZIY \texpval_direct: -0.3536\n",
      "Pauli: ZYYII \texpval_direct: -0.7071\n",
      "Pauli: XZIXI \texpval_direct: 0.5\n",
      "Pauli: ZXXII \texpval_direct: 0.7071\n",
      "Pauli: YIZYI \texpval_direct: -0.3536\n",
      "Pauli: IIZXY \texpval_direct: 0.25\n",
      "Pauli: XZIIX \texpval_direct: -0.5\n",
      "Pauli: IZZIX \texpval_direct: -0.7071\n",
      "Pauli: XZIYI \texpval_direct: -0.5\n",
      "Pauli: IXYYI \texpval_direct: -0.3536\n",
      "Pauli: IYXIY \texpval_direct: -0.3536\n",
      "Pauli: IZZIY \texpval_direct: -0.7071\n",
      "Pauli: XIIYY \texpval_direct: -0.3536\n",
      "Pauli: IIZYX \texpval_direct: -0.25\n",
      "Pauli: XIIYX \texpval_direct: -0.3536\n",
      "Pauli: IYXYI \texpval_direct: -0.3536\n",
      "Pauli: XIIXY \texpval_direct: 0.3536\n",
      "Pauli: IIZXX \texpval_direct: 0.25\n",
      "Pauli: YZIIY \texpval_direct: -0.3536\n",
      "Pauli: YZIIX \texpval_direct: -0.3536\n",
      "Pauli: YIZXI \texpval_direct: 0.3536\n",
      "Pauli: IZZXI \texpval_direct: 0.7071\n",
      "Pauli: IZIXY \texpval_direct: 0.25\n",
      "Pauli: YZIYI \texpval_direct: -0.3536\n",
      "Pauli: XXYIX \texpval_direct: 0.5\n",
      "Pauli: IYXYY \texpval_direct: 0.25\n",
      "Pauli: YZIYX \texpval_direct: 0.25\n",
      "Pauli: XZZIX \texpval_direct: 0.5\n",
      "Pauli: YZIXX \texpval_direct: -0.25\n",
      "Pauli: ZYYIX \texpval_direct: 0.5\n",
      "Pauli: ZYYYI \texpval_direct: 0.5\n",
      "Pauli: IXYYY \texpval_direct: 0.25\n",
      "Pauli: XYXYI \texpval_direct: 0.5\n",
      "Pauli: XIZXY \texpval_direct: -0.3536\n",
      "Pauli: IYXYX \texpval_direct: 0.25\n",
      "Pauli: YIZYY \texpval_direct: 0.25\n",
      "Pauli: YIZXY \texpval_direct: -0.25\n",
      "Pauli: YXYIX \texpval_direct: -0.3536\n",
      "Pauli: YIZXX \texpval_direct: -0.25\n",
      "Pauli: ZXXYI \texpval_direct: -0.5\n",
      "Pauli: XZZYI \texpval_direct: 0.5\n",
      "Pauli: IZZXY \texpval_direct: -0.5\n",
      "Pauli: ZYYIY \texpval_direct: 0.5\n",
      "Pauli: XXYXI \texpval_direct: -0.5\n",
      "Pauli: IZZXX \texpval_direct: -0.5\n",
      "Pauli: IXYXY \texpval_direct: -0.25\n",
      "Pauli: XZZXI \texpval_direct: -0.5\n",
      "Pauli: XYXXI \texpval_direct: -0.5\n",
      "Pauli: YXYIY \texpval_direct: -0.3536\n",
      "Pauli: ZXXIX \texpval_direct: -0.5\n",
      "Pauli: IXYXX \texpval_direct: -0.25\n",
      "Pauli: XIZYX \texpval_direct: 0.3536\n",
      "Pauli: IXYYX \texpval_direct: 0.25\n",
      "Pauli: IZZYX \texpval_direct: 0.5\n",
      "Pauli: IYXXY \texpval_direct: -0.25\n",
      "Pauli: IYXXX \texpval_direct: -0.25\n",
      "Pauli: ZXXXI \texpval_direct: 0.5\n",
      "Pauli: XIZYY \texpval_direct: 0.3536\n",
      "Pauli: XZIYX \texpval_direct: 0.3536\n",
      "Pauli: YYXYI \texpval_direct: -0.3536\n",
      "Pauli: YZIYY \texpval_direct: 0.25\n",
      "Pauli: XZIYY \texpval_direct: 0.3536\n",
      "Pauli: YXYYI \texpval_direct: -0.3536\n",
      "Pauli: XZIXX \texpval_direct: -0.3536\n",
      "Pauli: XIZXX \texpval_direct: -0.3536\n",
      "Pauli: XYXIX \texpval_direct: 0.5\n",
      "Pauli: XXYIY \texpval_direct: 0.5\n",
      "Pauli: YYXIY \texpval_direct: -0.3536\n",
      "Pauli: XZZIY \texpval_direct: 0.5\n",
      "Pauli: YXYXI \texpval_direct: 0.3536\n",
      "Pauli: ZYYXI \texpval_direct: -0.5\n",
      "Pauli: XXYYI \texpval_direct: 0.5\n",
      "Pauli: YIZYX \texpval_direct: 0.25\n",
      "Pauli: YYXIX \texpval_direct: -0.3536\n",
      "Pauli: YYXXI \texpval_direct: 0.3536\n",
      "Pauli: YZIXY \texpval_direct: -0.25\n",
      "Pauli: XZIXY \texpval_direct: -0.3536\n",
      "Pauli: IZZYY \texpval_direct: 0.5\n",
      "Pauli: XYXIY \texpval_direct: 0.5\n",
      "Pauli: ZXXIY \texpval_direct: -0.5\n",
      "Pauli: ZYYXY \texpval_direct: 0.3536\n",
      "Pauli: YXYYX \texpval_direct: 0.25\n",
      "Pauli: YYXYY \texpval_direct: 0.25\n",
      "Pauli: XYXYY \texpval_direct: -0.3536\n",
      "Pauli: YYXXY \texpval_direct: -0.25\n",
      "Pauli: ZYYXX \texpval_direct: 0.3536\n",
      "Pauli: YYXXX \texpval_direct: -0.25\n",
      "Pauli: XXYYX \texpval_direct: -0.3536\n",
      "Pauli: YXYYY \texpval_direct: 0.25\n",
      "Pauli: YXYXX \texpval_direct: -0.25\n",
      "Pauli: ZXXYX \texpval_direct: 0.3536\n",
      "Pauli: XYXXY \texpval_direct: 0.3536\n",
      "Pauli: XZZXX \texpval_direct: 0.3536\n",
      "Pauli: YXYXY \texpval_direct: -0.25\n",
      "Pauli: ZXXXY \texpval_direct: -0.3536\n",
      "Pauli: ZYYYY \texpval_direct: -0.3536\n",
      "Pauli: XZZXY \texpval_direct: 0.3536\n",
      "Pauli: ZYYYX \texpval_direct: -0.3536\n",
      "Pauli: XXYXX \texpval_direct: 0.3536\n",
      "Pauli: YYXYX \texpval_direct: 0.25\n",
      "Pauli: XYXXX \texpval_direct: 0.3536\n",
      "Pauli: ZXXXX \texpval_direct: -0.3536\n",
      "Pauli: XXYYY \texpval_direct: -0.3536\n",
      "Pauli: XZZYY \texpval_direct: -0.3536\n",
      "Pauli: XZZYX \texpval_direct: -0.3536\n",
      "Pauli: ZXXYY \texpval_direct: 0.3536\n",
      "Pauli: XYXYX \texpval_direct: -0.3536\n",
      "Pauli: XXYXY \texpval_direct: 0.3536\n",
      "CPU times: user 2.24 s, sys: 63.7 ms, total: 2.31 s\n",
      "Wall time: 2.23 s\n"
     ]
    }
   ],
   "source": [
    "%%time\n",
    "\n",
    "heavy_paulis = []\n",
    "heavy_expvals = []\n",
    "\n",
    "for pauli in sampled_paulis:\n",
    "    circuit = rnd_clifford_t_circuit(n_qubits=n_qubits, n_bits=n_bits, num_t=num_t, seed=seed)\n",
    "    expval_direct = compute_pauli_expval_with_state(circuit, pauli)\n",
    "    # Skip zero expectation values\n",
    "    if np.isclose(expval_direct, 0.0):\n",
    "        continue\n",
    "  \n",
    "    heavy_paulis.append(pauli)\n",
    "    heavy_expvals.append(expval_direct)\n",
    "    print(f\"Pauli: {pauli} \\texpval_direct: {expval_direct:.4}\")"
   ]
  },
  {
   "cell_type": "code",
   "execution_count": 11,
   "metadata": {},
   "outputs": [
    {
     "name": "stdout",
     "output_type": "stream",
     "text": [
      "162 heavy Paulis (16%) computed.\n"
     ]
    }
   ],
   "source": [
    "print(f\"{len(heavy_paulis)} heavy Paulis ({len(heavy_paulis)/len(sampled_paulis):.00%}) computed.\")"
   ]
  },
  {
   "cell_type": "markdown",
   "metadata": {},
   "source": [
    "## Linear combination of paulis\n",
    "\n",
    "We want to compute $E= {\\rm tr}(\\rho P)$, where $\\rho=U |0\\dots0 \\rangle_{\\rm sys} \\langle 0\\dots 0|_{\\rm sys} U^\\dagger$ and $P$ is a Pauli operator.\n",
    "\n",
    "The previous code shows that, through T-gadgets, we can evaluate the same expectation value as:\n",
    "\n",
    "$$E= 2^t \\, {\\rm tr}[\\rho' (P \\otimes |0\\dots0 \\rangle_{\\rm aux} \\langle 0\\dots 0|_{\\rm aux}) ],$$\n",
    "\n",
    "where $$\\rho'= U' (|0\\dots0 \\rangle_{\\rm sys}\\langle 0\\dots 0|_{\\rm sys} \\otimes |T\\dots T \\rangle_{\\rm aux}  \\langle T\\dots T|_{\\rm aux}) U'^\\dagger,$$\n",
    "\n",
    "$|T\\rangle = T\\, H\\, |0\\rangle$ is a magic state and, **importantly**, $U'$ is a Clifford circuit..\n",
    "\n",
    "If the observable is a Pauli operator, can we try to use an Heisenberg-picture-like approach to evaluate its expectation value?\n",
    "\n",
    "This requires expanding final zero-state-projector on the auxiliary qubits as a linear combination of Pauli strings. We use:\n",
    "\n",
    "$$ |0\\dots 0 \\rangle \\langle 0\\dots 0| = \\prod_{j=1}^{t} \\frac{(I_j + Z_j)}{2}=\\frac{1}{2^t}\\sum_{b \\in \\{0, 1\\}^{\\otimes t}} Z^{b_1}Z^{b_2}\\dots Z^{b_t}. $$\n",
    "\n",
    "So it is possible to expand $P \\otimes |0\\dots0 \\rangle_{\\rm aux} \\langle 0\\dots 0|_{\\rm aux}$ as a linear combination of Pauli strings. Unfortunately the number of terms is $2^t$, so exponential in $t$."
   ]
  },
  {
   "cell_type": "code",
   "execution_count": 12,
   "metadata": {},
   "outputs": [
    {
     "data": {
      "text/plain": [
       "['III', 'IIZ', 'IZI', 'ZII', 'IZZ', 'ZIZ', 'ZZI', 'ZZZ']"
      ]
     },
     "execution_count": 12,
     "metadata": {},
     "output_type": "execute_result"
    }
   ],
   "source": [
    "import copy\n",
    "def paulis_of_zero_projector(n_qubits, max_z_weight):\n",
    "    \"\"\"Returns a list of pauli strings corresponding (up to normalization)\n",
    "    to the projector on the zero state of n_qubits\"\"\"\n",
    "    paulis = [\"I\", \"Z\"]\n",
    "    for _ in range(n_qubits - 1):\n",
    "        new_paulis = []\n",
    "        for pauli in paulis:\n",
    "            new_paulis.append(pauli + \"I\")\n",
    "            new_paulis.append(pauli + \"Z\")\n",
    "        paulis = copy.deepcopy(new_paulis)\n",
    "\n",
    "    # Discard pauli operators with high too many Zs\n",
    "    truncated_paulis = [p for p in paulis if sum([int(c==\"Z\") for c in p]) <= max_z_weight]\n",
    "    \n",
    "    # Sort from few Zs to many Zs\n",
    "    return sorted(truncated_paulis, key=lambda x: sum([int(c==\"Z\") for c in x]))\n",
    "\n",
    "paulis_of_zero_projector(3, max_z_weight=3)"
   ]
  },
  {
   "cell_type": "markdown",
   "metadata": {},
   "source": [
    "## Magic state |T> in the Pauli basis\n",
    "\n",
    "The magic sate $|T\\rangle=TH|0\\rangle$ has known expectation values with respect to the Pauli basis: \n",
    "$$\\langle T | I |T\\rangle=1,$$ \n",
    "$$\\langle T | Y |T\\rangle=\\langle T | X |T\\rangle=1/\\sqrt{2},$$\n",
    "$$\\langle T | Z |T\\rangle=0.$$\n",
    "\n",
    "We numerically verify this fact."
   ]
  },
  {
   "cell_type": "code",
   "execution_count": 13,
   "metadata": {},
   "outputs": [],
   "source": [
    "t_circuit = QuantumCircuit(1)\n",
    "t_circuit.h(0)\n",
    "t_circuit.t(0)\n",
    "\n",
    "assert np.isclose(compute_pauli_expval_with_state(t_circuit, \"I\"), 1)\n",
    "assert np.isclose(compute_pauli_expval_with_state(t_circuit, \"X\"), 1 / np.sqrt(2))\n",
    "assert np.isclose(compute_pauli_expval_with_state(t_circuit, \"Y\"), 1 / np.sqrt(2))\n",
    "assert np.isclose(compute_pauli_expval_with_state(t_circuit, \"Z\"), 0)"
   ]
  },
  {
   "cell_type": "markdown",
   "metadata": {},
   "source": [
    "## Linear combination of paulis using Clifford rules\n"
   ]
  },
  {
   "cell_type": "code",
   "execution_count": 14,
   "metadata": {},
   "outputs": [],
   "source": [
    "def expval_with_init_state(pauli, n_qubits, num_t):\n",
    "    \"\"\"Evaluates the expectation value of the input Pauli with respect to the initial state of the\n",
    "    system i.e., |psi> = |0_{1} ... O_{num_qubits}> |T_{1} ... T_{num_t}>.\n",
    "    \"\"\"\n",
    "    \n",
    "    string = pauli.to_label()\n",
    "    expval = 1.0\n",
    "\n",
    "    # Check extract sign from string\n",
    "    if string[0] == \"-\":\n",
    "        expval = -1.0\n",
    "        string = string[1:]\n",
    "\n",
    "    # The right part of the string is associated to the system\n",
    "    sys_string = string[-n_qubits:]\n",
    "    # The left part of the string is associated to the magic states\n",
    "    magic_string = string[:num_t]\n",
    "    assert len(sys_string) + len(magic_string) == len(string)\n",
    "\n",
    "    # First consider all the cases in which the result is zero\n",
    "    if \"X\" in sys_string or \"Y\" in sys_string or \"Z\" in magic_string:\n",
    "        return 0.0\n",
    "    \n",
    "    # Evaluate expectation as a product of single-qubit non-zero terms\n",
    "    for p in magic_string:\n",
    "        if p in [\"X\", \"Y\"]:\n",
    "            expval *= 1 / np.sqrt(2)\n",
    "    \n",
    "    return expval\n",
    "\n",
    "test_string = \"\".join(num_t * [\"X\"] + n_qubits * [\"Z\"])\n",
    "assert np.isclose(\n",
    "    expval_with_init_state(Pauli(test_string), n_qubits=n_qubits, num_t=num_t),\n",
    "    np.sqrt(2) ** -num_t\n",
    ")"
   ]
  },
  {
   "cell_type": "code",
   "execution_count": 15,
   "metadata": {},
   "outputs": [],
   "source": [
    "def compute_pauli_expval_with_gadget_and_linear_comb_heisenberg(circuit, pauli, n_qubits, num_t, max_z_weight):\n",
    "    \"\"\"Computes the expectation value of a Pauli observable expanding the projector on the magic states\n",
    "    as a linear combination of Pauli operators. Each Pauli term is evolved by the circuit\n",
    "    and evaluated using the Heisenberg picture.\n",
    "    \n",
    "    Returns: The expectation value and also individual terms before averaging.\n",
    "    \"\"\"\n",
    "    circuit_to_measure = circuit.copy()\n",
    "    \n",
    "    # Expand zero-state projector on gadget qubits\n",
    "    all_paulis = [Pauli(p + pauli) for p in paulis_of_zero_projector(num_t, max_z_weight)]\n",
    "    \n",
    "    evolved_paulis = [p.evolve(circuit) for p in all_paulis]\n",
    "    \n",
    "    all_expvals = np.array([expval_with_init_state(p, n_qubits, num_t) for p in evolved_paulis])\n",
    "    \n",
    "    return np.sum(all_expvals), all_expvals"
   ]
  },
  {
   "cell_type": "code",
   "execution_count": 16,
   "metadata": {},
   "outputs": [
    {
     "name": "stdout",
     "output_type": "stream",
     "text": [
      "Pauli: IIIII \texpval_direct: 1.0 \texpval_with_gadget: 1.0\n",
      "Pauli: IIZII \texpval_direct: -0.5 \texpval_with_gadget: -0.5\n",
      "Pauli: IZIII \texpval_direct: -0.5 \texpval_with_gadget: -0.5\n",
      "Pauli: IIIYI \texpval_direct: -0.7071 \texpval_with_gadget: -0.7071\n",
      "Pauli: XIIII \texpval_direct: -0.7071 \texpval_with_gadget: -0.7071\n",
      "Pauli: IIIXI \texpval_direct: 0.7071 \texpval_with_gadget: 0.7071\n",
      "Pauli: IIIIY \texpval_direct: -0.7071 \texpval_with_gadget: -0.7071\n",
      "Pauli: IIIIX \texpval_direct: -0.7071 \texpval_with_gadget: -0.7071\n",
      "Pauli: XIIIY \texpval_direct: 0.5 \texpval_with_gadget: 0.5\n",
      "Pauli: IIIXY \texpval_direct: -0.5 \texpval_with_gadget: -0.5\n",
      "Pauli: XIZII \texpval_direct: 0.7071 \texpval_with_gadget: 0.7071\n",
      "Pauli: XIIXI \texpval_direct: -0.5 \texpval_with_gadget: -0.5\n",
      "Pauli: IIIXX \texpval_direct: -0.5 \texpval_with_gadget: -0.5\n",
      "Pauli: XIIIX \texpval_direct: 0.5 \texpval_with_gadget: 0.5\n",
      "Pauli: IZIIX \texpval_direct: 0.3536 \texpval_with_gadget: 0.3536\n",
      "Pauli: IXYII \texpval_direct: 0.5 \texpval_with_gadget: 0.5\n",
      "Pauli: YZIII \texpval_direct: 0.5 \texpval_with_gadget: 0.5\n",
      "Pauli: XIIYI \texpval_direct: 0.5 \texpval_with_gadget: 0.5\n",
      "Pauli: IZIIY \texpval_direct: 0.3536 \texpval_with_gadget: 0.3536\n",
      "Pauli: IIZIY \texpval_direct: 0.3536 \texpval_with_gadget: 0.3536\n",
      "Pauli: IZZII \texpval_direct: 1.0 \texpval_with_gadget: 1.0\n",
      "Pauli: IIIYY \texpval_direct: 0.5 \texpval_with_gadget: 0.5\n",
      "Pauli: IZIYI \texpval_direct: 0.3536 \texpval_with_gadget: 0.3536\n",
      "Pauli: XZIII \texpval_direct: 0.7071 \texpval_with_gadget: 0.7071\n",
      "Pauli: YIZII \texpval_direct: 0.5 \texpval_with_gadget: 0.5\n",
      "Pauli: IIZYI \texpval_direct: 0.3536 \texpval_with_gadget: 0.3536\n",
      "Pauli: IZIXI \texpval_direct: -0.3536 \texpval_with_gadget: -0.3536\n",
      "Pauli: IIIYX \texpval_direct: 0.5 \texpval_with_gadget: 0.5\n",
      "Pauli: IYXII \texpval_direct: 0.5 \texpval_with_gadget: 0.5\n",
      "Pauli: IIZIX \texpval_direct: 0.3536 \texpval_with_gadget: 0.3536\n",
      "Pauli: IIZXI \texpval_direct: -0.3536 \texpval_with_gadget: -0.3536\n",
      "Pauli: IYXIX \texpval_direct: -0.3536 \texpval_with_gadget: -0.3536\n",
      "Pauli: XIZYI \texpval_direct: -0.5 \texpval_with_gadget: -0.5\n",
      "Pauli: IXYIY \texpval_direct: -0.3536 \texpval_with_gadget: -0.3536\n",
      "Pauli: IZIYX \texpval_direct: -0.25 \texpval_with_gadget: -0.25\n",
      "Pauli: YYXII \texpval_direct: 0.5 \texpval_with_gadget: 0.5\n",
      "Pauli: XIZXI \texpval_direct: 0.5 \texpval_with_gadget: 0.5\n",
      "Pauli: IXYXI \texpval_direct: 0.3536 \texpval_with_gadget: 0.3536\n",
      "Pauli: IZZYI \texpval_direct: -0.7071 \texpval_with_gadget: -0.7071\n",
      "Pauli: XZIIY \texpval_direct: -0.5 \texpval_with_gadget: -0.5\n",
      "Pauli: IZIYY \texpval_direct: -0.25 \texpval_with_gadget: -0.25\n",
      "Pauli: XXYII \texpval_direct: -0.7071 \texpval_with_gadget: -0.7071\n",
      "Pauli: YZIXI \texpval_direct: 0.3536 \texpval_with_gadget: 0.3536\n",
      "Pauli: XZZII \texpval_direct: -0.7071 \texpval_with_gadget: -0.7071\n",
      "Pauli: IIZYY \texpval_direct: -0.25 \texpval_with_gadget: -0.25\n",
      "Pauli: YXYII \texpval_direct: 0.5 \texpval_with_gadget: 0.5\n",
      "Pauli: XIIXX \texpval_direct: 0.3536 \texpval_with_gadget: 0.3536\n",
      "Pauli: XIZIX \texpval_direct: -0.5 \texpval_with_gadget: -0.5\n",
      "Pauli: YIZIX \texpval_direct: -0.3536 \texpval_with_gadget: -0.3536\n",
      "Pauli: IXYIX \texpval_direct: -0.3536 \texpval_with_gadget: -0.3536\n",
      "Pauli: XYXII \texpval_direct: -0.7071 \texpval_with_gadget: -0.7071\n",
      "Pauli: XIZIY \texpval_direct: -0.5 \texpval_with_gadget: -0.5\n",
      "Pauli: IYXXI \texpval_direct: 0.3536 \texpval_with_gadget: 0.3536\n",
      "Pauli: IZIXX \texpval_direct: 0.25 \texpval_with_gadget: 0.25\n",
      "Pauli: YIZIY \texpval_direct: -0.3536 \texpval_with_gadget: -0.3536\n",
      "Pauli: ZYYII \texpval_direct: -0.7071 \texpval_with_gadget: -0.7071\n",
      "Pauli: XZIXI \texpval_direct: 0.5 \texpval_with_gadget: 0.5\n",
      "Pauli: ZXXII \texpval_direct: 0.7071 \texpval_with_gadget: 0.7071\n",
      "Pauli: YIZYI \texpval_direct: -0.3536 \texpval_with_gadget: -0.3536\n",
      "Pauli: IIZXY \texpval_direct: 0.25 \texpval_with_gadget: 0.25\n",
      "Pauli: XZIIX \texpval_direct: -0.5 \texpval_with_gadget: -0.5\n",
      "Pauli: IZZIX \texpval_direct: -0.7071 \texpval_with_gadget: -0.7071\n",
      "Pauli: XZIYI \texpval_direct: -0.5 \texpval_with_gadget: -0.5\n",
      "Pauli: IXYYI \texpval_direct: -0.3536 \texpval_with_gadget: -0.3536\n",
      "Pauli: IYXIY \texpval_direct: -0.3536 \texpval_with_gadget: -0.3536\n",
      "Pauli: IZZIY \texpval_direct: -0.7071 \texpval_with_gadget: -0.7071\n",
      "Pauli: XIIYY \texpval_direct: -0.3536 \texpval_with_gadget: -0.3536\n",
      "Pauli: IIZYX \texpval_direct: -0.25 \texpval_with_gadget: -0.25\n",
      "Pauli: XIIYX \texpval_direct: -0.3536 \texpval_with_gadget: -0.3536\n",
      "Pauli: IYXYI \texpval_direct: -0.3536 \texpval_with_gadget: -0.3536\n",
      "Pauli: XIIXY \texpval_direct: 0.3536 \texpval_with_gadget: 0.3536\n",
      "Pauli: IIZXX \texpval_direct: 0.25 \texpval_with_gadget: 0.25\n",
      "Pauli: YZIIY \texpval_direct: -0.3536 \texpval_with_gadget: -0.3536\n",
      "Pauli: YZIIX \texpval_direct: -0.3536 \texpval_with_gadget: -0.3536\n",
      "Pauli: YIZXI \texpval_direct: 0.3536 \texpval_with_gadget: 0.3536\n",
      "Pauli: IZZXI \texpval_direct: 0.7071 \texpval_with_gadget: 0.7071\n",
      "Pauli: IZIXY \texpval_direct: 0.25 \texpval_with_gadget: 0.25\n",
      "Pauli: YZIYI \texpval_direct: -0.3536 \texpval_with_gadget: -0.3536\n",
      "Pauli: XXYIX \texpval_direct: 0.5 \texpval_with_gadget: 0.5\n",
      "Pauli: IYXYY \texpval_direct: 0.25 \texpval_with_gadget: 0.25\n",
      "Pauli: YZIYX \texpval_direct: 0.25 \texpval_with_gadget: 0.25\n",
      "Pauli: XZZIX \texpval_direct: 0.5 \texpval_with_gadget: 0.5\n",
      "Pauli: YZIXX \texpval_direct: -0.25 \texpval_with_gadget: -0.25\n",
      "Pauli: ZYYIX \texpval_direct: 0.5 \texpval_with_gadget: 0.5\n",
      "Pauli: ZYYYI \texpval_direct: 0.5 \texpval_with_gadget: 0.5\n",
      "Pauli: IXYYY \texpval_direct: 0.25 \texpval_with_gadget: 0.25\n",
      "Pauli: XYXYI \texpval_direct: 0.5 \texpval_with_gadget: 0.5\n",
      "Pauli: XIZXY \texpval_direct: -0.3536 \texpval_with_gadget: -0.3536\n",
      "Pauli: IYXYX \texpval_direct: 0.25 \texpval_with_gadget: 0.25\n",
      "Pauli: YIZYY \texpval_direct: 0.25 \texpval_with_gadget: 0.25\n",
      "Pauli: YIZXY \texpval_direct: -0.25 \texpval_with_gadget: -0.25\n",
      "Pauli: YXYIX \texpval_direct: -0.3536 \texpval_with_gadget: -0.3536\n",
      "Pauli: YIZXX \texpval_direct: -0.25 \texpval_with_gadget: -0.25\n",
      "Pauli: ZXXYI \texpval_direct: -0.5 \texpval_with_gadget: -0.5\n",
      "Pauli: XZZYI \texpval_direct: 0.5 \texpval_with_gadget: 0.5\n",
      "Pauli: IZZXY \texpval_direct: -0.5 \texpval_with_gadget: -0.5\n",
      "Pauli: ZYYIY \texpval_direct: 0.5 \texpval_with_gadget: 0.5\n",
      "Pauli: XXYXI \texpval_direct: -0.5 \texpval_with_gadget: -0.5\n",
      "Pauli: IZZXX \texpval_direct: -0.5 \texpval_with_gadget: -0.5\n",
      "Pauli: IXYXY \texpval_direct: -0.25 \texpval_with_gadget: -0.25\n",
      "Pauli: XZZXI \texpval_direct: -0.5 \texpval_with_gadget: -0.5\n",
      "Pauli: XYXXI \texpval_direct: -0.5 \texpval_with_gadget: -0.5\n",
      "Pauli: YXYIY \texpval_direct: -0.3536 \texpval_with_gadget: -0.3536\n",
      "Pauli: ZXXIX \texpval_direct: -0.5 \texpval_with_gadget: -0.5\n",
      "Pauli: IXYXX \texpval_direct: -0.25 \texpval_with_gadget: -0.25\n",
      "Pauli: XIZYX \texpval_direct: 0.3536 \texpval_with_gadget: 0.3536\n",
      "Pauli: IXYYX \texpval_direct: 0.25 \texpval_with_gadget: 0.25\n",
      "Pauli: IZZYX \texpval_direct: 0.5 \texpval_with_gadget: 0.5\n",
      "Pauli: IYXXY \texpval_direct: -0.25 \texpval_with_gadget: -0.25\n",
      "Pauli: IYXXX \texpval_direct: -0.25 \texpval_with_gadget: -0.25\n",
      "Pauli: ZXXXI \texpval_direct: 0.5 \texpval_with_gadget: 0.5\n",
      "Pauli: XIZYY \texpval_direct: 0.3536 \texpval_with_gadget: 0.3536\n",
      "Pauli: XZIYX \texpval_direct: 0.3536 \texpval_with_gadget: 0.3536\n",
      "Pauli: YYXYI \texpval_direct: -0.3536 \texpval_with_gadget: -0.3536\n",
      "Pauli: YZIYY \texpval_direct: 0.25 \texpval_with_gadget: 0.25\n",
      "Pauli: XZIYY \texpval_direct: 0.3536 \texpval_with_gadget: 0.3536\n",
      "Pauli: YXYYI \texpval_direct: -0.3536 \texpval_with_gadget: -0.3536\n",
      "Pauli: XZIXX \texpval_direct: -0.3536 \texpval_with_gadget: -0.3536\n",
      "Pauli: XIZXX \texpval_direct: -0.3536 \texpval_with_gadget: -0.3536\n",
      "Pauli: XYXIX \texpval_direct: 0.5 \texpval_with_gadget: 0.5\n",
      "Pauli: XXYIY \texpval_direct: 0.5 \texpval_with_gadget: 0.5\n",
      "Pauli: YYXIY \texpval_direct: -0.3536 \texpval_with_gadget: -0.3536\n",
      "Pauli: XZZIY \texpval_direct: 0.5 \texpval_with_gadget: 0.5\n",
      "Pauli: YXYXI \texpval_direct: 0.3536 \texpval_with_gadget: 0.3536\n",
      "Pauli: ZYYXI \texpval_direct: -0.5 \texpval_with_gadget: -0.5\n",
      "Pauli: XXYYI \texpval_direct: 0.5 \texpval_with_gadget: 0.5\n",
      "Pauli: YIZYX \texpval_direct: 0.25 \texpval_with_gadget: 0.25\n",
      "Pauli: YYXIX \texpval_direct: -0.3536 \texpval_with_gadget: -0.3536\n",
      "Pauli: YYXXI \texpval_direct: 0.3536 \texpval_with_gadget: 0.3536\n",
      "Pauli: YZIXY \texpval_direct: -0.25 \texpval_with_gadget: -0.25\n",
      "Pauli: XZIXY \texpval_direct: -0.3536 \texpval_with_gadget: -0.3536\n",
      "Pauli: IZZYY \texpval_direct: 0.5 \texpval_with_gadget: 0.5\n"
     ]
    },
    {
     "name": "stdout",
     "output_type": "stream",
     "text": [
      "Pauli: XYXIY \texpval_direct: 0.5 \texpval_with_gadget: 0.5\n",
      "Pauli: ZXXIY \texpval_direct: -0.5 \texpval_with_gadget: -0.5\n",
      "Pauli: ZYYXY \texpval_direct: 0.3536 \texpval_with_gadget: 0.3536\n",
      "Pauli: YXYYX \texpval_direct: 0.25 \texpval_with_gadget: 0.25\n",
      "Pauli: YYXYY \texpval_direct: 0.25 \texpval_with_gadget: 0.25\n",
      "Pauli: XYXYY \texpval_direct: -0.3536 \texpval_with_gadget: -0.3536\n",
      "Pauli: YYXXY \texpval_direct: -0.25 \texpval_with_gadget: -0.25\n",
      "Pauli: ZYYXX \texpval_direct: 0.3536 \texpval_with_gadget: 0.3536\n",
      "Pauli: YYXXX \texpval_direct: -0.25 \texpval_with_gadget: -0.25\n",
      "Pauli: XXYYX \texpval_direct: -0.3536 \texpval_with_gadget: -0.3536\n",
      "Pauli: YXYYY \texpval_direct: 0.25 \texpval_with_gadget: 0.25\n",
      "Pauli: YXYXX \texpval_direct: -0.25 \texpval_with_gadget: -0.25\n",
      "Pauli: ZXXYX \texpval_direct: 0.3536 \texpval_with_gadget: 0.3536\n",
      "Pauli: XYXXY \texpval_direct: 0.3536 \texpval_with_gadget: 0.3536\n",
      "Pauli: XZZXX \texpval_direct: 0.3536 \texpval_with_gadget: 0.3536\n",
      "Pauli: YXYXY \texpval_direct: -0.25 \texpval_with_gadget: -0.25\n",
      "Pauli: ZXXXY \texpval_direct: -0.3536 \texpval_with_gadget: -0.3536\n",
      "Pauli: ZYYYY \texpval_direct: -0.3536 \texpval_with_gadget: -0.3536\n",
      "Pauli: XZZXY \texpval_direct: 0.3536 \texpval_with_gadget: 0.3536\n",
      "Pauli: ZYYYX \texpval_direct: -0.3536 \texpval_with_gadget: -0.3536\n",
      "Pauli: XXYXX \texpval_direct: 0.3536 \texpval_with_gadget: 0.3536\n",
      "Pauli: YYXYX \texpval_direct: 0.25 \texpval_with_gadget: 0.25\n",
      "Pauli: XYXXX \texpval_direct: 0.3536 \texpval_with_gadget: 0.3536\n",
      "Pauli: ZXXXX \texpval_direct: -0.3536 \texpval_with_gadget: -0.3536\n",
      "Pauli: XXYYY \texpval_direct: -0.3536 \texpval_with_gadget: -0.3536\n",
      "Pauli: XZZYY \texpval_direct: -0.3536 \texpval_with_gadget: -0.3536\n",
      "Pauli: XZZYX \texpval_direct: -0.3536 \texpval_with_gadget: -0.3536\n",
      "Pauli: ZXXYY \texpval_direct: 0.3536 \texpval_with_gadget: 0.3536\n",
      "Pauli: XYXYX \texpval_direct: -0.3536 \texpval_with_gadget: -0.3536\n",
      "Pauli: XXYXY \texpval_direct: 0.3536 \texpval_with_gadget: 0.3536\n",
      "CPU times: user 8.94 s, sys: 13.7 ms, total: 8.95 s\n",
      "Wall time: 8.88 s\n"
     ]
    }
   ],
   "source": [
    "%%time\n",
    "\n",
    "circuit = rnd_clifford_t_circuit(\n",
    "    n_qubits=n_qubits, n_bits=n_bits, num_t=num_t, t_gadget=True, randomize=False, magic_prep=False, seed=seed\n",
    ")\n",
    "\n",
    "heis_expvals = []\n",
    "heis_all_expvals = []\n",
    "for _pauli, _expval in zip(heavy_paulis, heavy_expvals):\n",
    "    estimate, all_expvals = compute_pauli_expval_with_gadget_and_linear_comb_heisenberg(\n",
    "        circuit, pauli=_pauli, n_qubits=n_qubits, num_t=num_t, max_z_weight=num_t,\n",
    "    )\n",
    "    print(f\"Pauli: {_pauli} \\texpval_direct: {_expval:.4} \\texpval_with_gadget: {estimate:.4}\")  \n",
    "    heis_all_expvals.append(all_expvals)\n",
    "    heis_expvals.append(estimate)"
   ]
  },
  {
   "cell_type": "code",
   "execution_count": 17,
   "metadata": {},
   "outputs": [
    {
     "data": {
      "image/png": "[encoded data removed]",
      "text/plain": [
       "<Figure size 288x288 with 1 Axes>"
      ]
     },
     "metadata": {
      "needs_background": "light"
     },
     "output_type": "display_data"
    }
   ],
   "source": [
    "def plot_all_heavy_terms(heavy_paulis, heavy_expvals, heavy_all_expvals, mean_only):\n",
    "    \"\"\"Plot all the terms which, when added, produce the expectation value of each Pauli string.\"\"\"\n",
    "    # Sort heavy paulis from large abs(expval) to small abs(expval)\n",
    "    sorted_zip = sorted(zip(heavy_paulis, heavy_expvals, heavy_all_expvals), key=lambda x: -abs(x[1]))\n",
    "    \n",
    "    if not mean_only:\n",
    "        plt.figure(figsize=(5, 5))\n",
    "        shift = 0.0\n",
    "        for _pauli, expval, all_expvals in sorted_zip:\n",
    "                shift += 0.001\n",
    "                plt.plot(all_expvals + shift, marker=\"o\", linestyle=\"None\", label=_pauli +f\" ({expval:g})\", alpha=0.3)\n",
    "                plt.legend(bbox_to_anchor=(1.25, 1))\n",
    "        plt.title(\"Individual terms whose sum gives the expectation value of a Pauli string\")\n",
    "        plt.show()\n",
    "\n",
    "    plt.figure(figsize=(4, 4))\n",
    "    average_norm = np.mean(np.abs(np.array(heavy_all_expvals)))\n",
    "    plt.plot(np.mean(np.abs(heavy_all_expvals), axis=0), marker=\".\")\n",
    "    plt.title(\"Average norm of each term\")\n",
    "    plt.show()\n",
    "\n",
    "plot_all_heavy_terms(heavy_paulis, heis_expvals, heis_all_expvals, mean_only=True)"
   ]
  },
  {
   "cell_type": "markdown",
   "metadata": {},
   "source": [
    "## Direct-only simulation"
   ]
  },
  {
   "cell_type": "code",
   "execution_count": 18,
   "metadata": {},
   "outputs": [
    {
     "name": "stdout",
     "output_type": "stream",
     "text": [
      "Pauli: IIIII \texpval_heisenberg: 1.0\n",
      "Pauli: IIZII \texpval_heisenberg: -0.5\n",
      "Pauli: IZIII \texpval_heisenberg: -0.5\n",
      "Pauli: IIIYI \texpval_heisenberg: -0.7071\n",
      "Pauli: XIIII \texpval_heisenberg: -0.7071\n",
      "Pauli: IIIXI \texpval_heisenberg: 0.7071\n",
      "Pauli: IIIIY \texpval_heisenberg: -0.7071\n",
      "Pauli: IIIIX \texpval_heisenberg: -0.7071\n",
      "Pauli: XIIIY \texpval_heisenberg: 0.5\n",
      "Pauli: IIIXY \texpval_heisenberg: -0.5\n",
      "Pauli: XIZII \texpval_heisenberg: 0.7071\n",
      "Pauli: XIIXI \texpval_heisenberg: -0.5\n",
      "Pauli: IIIXX \texpval_heisenberg: -0.5\n",
      "Pauli: XIIIX \texpval_heisenberg: 0.5\n",
      "Pauli: IZIIX \texpval_heisenberg: 0.3536\n",
      "Pauli: IXYII \texpval_heisenberg: 0.5\n",
      "Pauli: YZIII \texpval_heisenberg: 0.5\n",
      "Pauli: XIIYI \texpval_heisenberg: 0.5\n",
      "Pauli: IZIIY \texpval_heisenberg: 0.3536\n",
      "Pauli: IIZIY \texpval_heisenberg: 0.3536\n",
      "Pauli: IZZII \texpval_heisenberg: 1.0\n",
      "Pauli: IIIYY \texpval_heisenberg: 0.5\n",
      "Pauli: IZIYI \texpval_heisenberg: 0.3536\n",
      "Pauli: XZIII \texpval_heisenberg: 0.7071\n",
      "Pauli: YIZII \texpval_heisenberg: 0.5\n",
      "Pauli: IIZYI \texpval_heisenberg: 0.3536\n",
      "Pauli: IZIXI \texpval_heisenberg: -0.3536\n",
      "Pauli: IIIYX \texpval_heisenberg: 0.5\n",
      "Pauli: IYXII \texpval_heisenberg: 0.5\n",
      "Pauli: IIZIX \texpval_heisenberg: 0.3536\n",
      "Pauli: IIZXI \texpval_heisenberg: -0.3536\n",
      "Pauli: IYXIX \texpval_heisenberg: -0.3536\n",
      "Pauli: XIZYI \texpval_heisenberg: -0.5\n",
      "Pauli: IXYIY \texpval_heisenberg: -0.3536\n",
      "Pauli: IZIYX \texpval_heisenberg: -0.25\n",
      "Pauli: YYXII \texpval_heisenberg: 0.5\n",
      "Pauli: XIZXI \texpval_heisenberg: 0.5\n",
      "Pauli: IXYXI \texpval_heisenberg: 0.3536\n",
      "Pauli: IZZYI \texpval_heisenberg: -0.7071\n",
      "Pauli: XZIIY \texpval_heisenberg: -0.5\n",
      "Pauli: IZIYY \texpval_heisenberg: -0.25\n",
      "Pauli: XXYII \texpval_heisenberg: -0.7071\n",
      "Pauli: YZIXI \texpval_heisenberg: 0.3536\n",
      "Pauli: XZZII \texpval_heisenberg: -0.7071\n",
      "Pauli: IIZYY \texpval_heisenberg: -0.25\n",
      "Pauli: YXYII \texpval_heisenberg: 0.5\n",
      "Pauli: XIIXX \texpval_heisenberg: 0.3536\n",
      "Pauli: XIZIX \texpval_heisenberg: -0.5\n",
      "Pauli: YIZIX \texpval_heisenberg: -0.3536\n",
      "Pauli: IXYIX \texpval_heisenberg: -0.3536\n",
      "Pauli: XYXII \texpval_heisenberg: -0.7071\n",
      "Pauli: XIZIY \texpval_heisenberg: -0.5\n",
      "Pauli: IYXXI \texpval_heisenberg: 0.3536\n",
      "Pauli: IZIXX \texpval_heisenberg: 0.25\n",
      "Pauli: YIZIY \texpval_heisenberg: -0.3536\n",
      "Pauli: ZYYII \texpval_heisenberg: -0.7071\n",
      "Pauli: XZIXI \texpval_heisenberg: 0.5\n",
      "Pauli: ZXXII \texpval_heisenberg: 0.7071\n",
      "Pauli: YIZYI \texpval_heisenberg: -0.3536\n",
      "Pauli: IIZXY \texpval_heisenberg: 0.25\n",
      "Pauli: XZIIX \texpval_heisenberg: -0.5\n",
      "Pauli: IZZIX \texpval_heisenberg: -0.7071\n",
      "Pauli: XZIYI \texpval_heisenberg: -0.5\n",
      "Pauli: IXYYI \texpval_heisenberg: -0.3536\n",
      "Pauli: IYXIY \texpval_heisenberg: -0.3536\n",
      "Pauli: IZZIY \texpval_heisenberg: -0.7071\n",
      "Pauli: XIIYY \texpval_heisenberg: -0.3536\n",
      "Pauli: IIZYX \texpval_heisenberg: -0.25\n",
      "Pauli: XIIYX \texpval_heisenberg: -0.3536\n",
      "Pauli: IYXYI \texpval_heisenberg: -0.3536\n",
      "Pauli: XIIXY \texpval_heisenberg: 0.3536\n",
      "Pauli: IIZXX \texpval_heisenberg: 0.25\n",
      "Pauli: YZIIY \texpval_heisenberg: -0.3536\n",
      "Pauli: YZIIX \texpval_heisenberg: -0.3536\n",
      "Pauli: YIZXI \texpval_heisenberg: 0.3536\n",
      "Pauli: IZZXI \texpval_heisenberg: 0.7071\n",
      "Pauli: IZIXY \texpval_heisenberg: 0.25\n",
      "Pauli: YZIYI \texpval_heisenberg: -0.3536\n",
      "Pauli: XXYIX \texpval_heisenberg: 0.5\n",
      "Pauli: IYXYY \texpval_heisenberg: 0.25\n",
      "Pauli: YZIYX \texpval_heisenberg: 0.25\n",
      "Pauli: XZZIX \texpval_heisenberg: 0.5\n",
      "Pauli: YZIXX \texpval_heisenberg: -0.25\n",
      "Pauli: ZYYIX \texpval_heisenberg: 0.5\n",
      "Pauli: ZYYYI \texpval_heisenberg: 0.5\n",
      "Pauli: IXYYY \texpval_heisenberg: 0.25\n",
      "Pauli: XYXYI \texpval_heisenberg: 0.5\n",
      "Pauli: XIZXY \texpval_heisenberg: -0.3536\n",
      "Pauli: IYXYX \texpval_heisenberg: 0.25\n",
      "Pauli: YIZYY \texpval_heisenberg: 0.25\n",
      "Pauli: YIZXY \texpval_heisenberg: -0.25\n",
      "Pauli: YXYIX \texpval_heisenberg: -0.3536\n",
      "Pauli: YIZXX \texpval_heisenberg: -0.25\n",
      "Pauli: ZXXYI \texpval_heisenberg: -0.5\n",
      "Pauli: XZZYI \texpval_heisenberg: 0.5\n",
      "Pauli: IZZXY \texpval_heisenberg: -0.5\n",
      "Pauli: ZYYIY \texpval_heisenberg: 0.5\n",
      "Pauli: XXYXI \texpval_heisenberg: -0.5\n",
      "Pauli: IZZXX \texpval_heisenberg: -0.5\n",
      "Pauli: IXYXY \texpval_heisenberg: -0.25\n",
      "Pauli: XZZXI \texpval_heisenberg: -0.5\n",
      "Pauli: XYXXI \texpval_heisenberg: -0.5\n",
      "Pauli: YXYIY \texpval_heisenberg: -0.3536\n",
      "Pauli: ZXXIX \texpval_heisenberg: -0.5\n",
      "Pauli: IXYXX \texpval_heisenberg: -0.25\n",
      "Pauli: XIZYX \texpval_heisenberg: 0.3536\n",
      "Pauli: IXYYX \texpval_heisenberg: 0.25\n",
      "Pauli: IZZYX \texpval_heisenberg: 0.5\n",
      "Pauli: IYXXY \texpval_heisenberg: -0.25\n",
      "Pauli: IYXXX \texpval_heisenberg: -0.25\n",
      "Pauli: ZXXXI \texpval_heisenberg: 0.5\n",
      "Pauli: XIZYY \texpval_heisenberg: 0.3536\n",
      "Pauli: XZIYX \texpval_heisenberg: 0.3536\n",
      "Pauli: YYXYI \texpval_heisenberg: -0.3536\n",
      "Pauli: YZIYY \texpval_heisenberg: 0.25\n",
      "Pauli: XZIYY \texpval_heisenberg: 0.3536\n",
      "Pauli: YXYYI \texpval_heisenberg: -0.3536\n",
      "Pauli: XZIXX \texpval_heisenberg: -0.3536\n",
      "Pauli: XIZXX \texpval_heisenberg: -0.3536\n",
      "Pauli: XYXIX \texpval_heisenberg: 0.5\n",
      "Pauli: XXYIY \texpval_heisenberg: 0.5\n",
      "Pauli: YYXIY \texpval_heisenberg: -0.3536\n",
      "Pauli: XZZIY \texpval_heisenberg: 0.5\n",
      "Pauli: YXYXI \texpval_heisenberg: 0.3536\n",
      "Pauli: ZYYXI \texpval_heisenberg: -0.5\n",
      "Pauli: XXYYI \texpval_heisenberg: 0.5\n",
      "Pauli: YIZYX \texpval_heisenberg: 0.25\n",
      "Pauli: YYXIX \texpval_heisenberg: -0.3536\n",
      "Pauli: YYXXI \texpval_heisenberg: 0.3536\n",
      "Pauli: YZIXY \texpval_heisenberg: -0.25\n",
      "Pauli: XZIXY \texpval_heisenberg: -0.3536\n",
      "Pauli: IZZYY \texpval_heisenberg: 0.5\n",
      "Pauli: XYXIY \texpval_heisenberg: 0.5\n",
      "Pauli: ZXXIY \texpval_heisenberg: -0.5\n",
      "Pauli: ZYYXY \texpval_heisenberg: 0.3536\n",
      "Pauli: YXYYX \texpval_heisenberg: 0.25\n",
      "Pauli: YYXYY \texpval_heisenberg: 0.25\n",
      "Pauli: XYXYY \texpval_heisenberg: -0.3536\n",
      "Pauli: YYXXY \texpval_heisenberg: -0.25\n",
      "Pauli: ZYYXX \texpval_heisenberg: 0.3536\n",
      "Pauli: YYXXX \texpval_heisenberg: -0.25\n",
      "Pauli: XXYYX \texpval_heisenberg: -0.3536\n",
      "Pauli: YXYYY \texpval_heisenberg: 0.25\n",
      "Pauli: YXYXX \texpval_heisenberg: -0.25\n",
      "Pauli: ZXXYX \texpval_heisenberg: 0.3536\n",
      "Pauli: XYXXY \texpval_heisenberg: 0.3536\n",
      "Pauli: XZZXX \texpval_heisenberg: 0.3536\n",
      "Pauli: YXYXY \texpval_heisenberg: -0.25\n",
      "Pauli: ZXXXY \texpval_heisenberg: -0.3536\n",
      "Pauli: ZYYYY \texpval_heisenberg: -0.3536\n",
      "Pauli: XZZXY \texpval_heisenberg: 0.3536\n",
      "Pauli: ZYYYX \texpval_heisenberg: -0.3536\n",
      "Pauli: XXYXX \texpval_heisenberg: 0.3536\n",
      "Pauli: YYXYX \texpval_heisenberg: 0.25\n",
      "Pauli: XYXXX \texpval_heisenberg: 0.3536\n",
      "Pauli: ZXXXX \texpval_heisenberg: -0.3536\n",
      "Pauli: XXYYY \texpval_heisenberg: -0.3536\n",
      "Pauli: XZZYY \texpval_heisenberg: -0.3536\n",
      "Pauli: XZZYX \texpval_heisenberg: -0.3536\n",
      "Pauli: ZXXYY \texpval_heisenberg: 0.3536\n",
      "Pauli: XYXYX \texpval_heisenberg: -0.3536\n",
      "Pauli: XXYXY \texpval_heisenberg: 0.3536\n",
      "CPU times: user 1.31 s, sys: 69.2 ms, total: 1.38 s\n",
      "Wall time: 1.3 s\n"
     ]
    }
   ],
   "source": [
    "%%time\n",
    "\n",
    "circuit = rnd_clifford_t_circuit(n_qubits=n_qubits, n_bits=n_bits, num_t=num_t, t_gadget=False, randomize=False, magic_prep=True, seed=0)\n",
    "\n",
    "heavy_paulis = []\n",
    "direct_expvals = []\n",
    "\n",
    "for p in sampled_paulis:\n",
    "    estimate = compute_pauli_expval_with_state(circuit, pauli=p)\n",
    "    \n",
    "    # Skip zero expectation values\n",
    "    if np.isclose(estimate, 0.0):\n",
    "        continue\n",
    "\n",
    "    heavy_paulis.append(pauli)\n",
    "    direct_expvals.append(estimate)\n",
    "    print(f\"Pauli: {p} \\texpval_heisenberg: {estimate:.4}\")"
   ]
  },
  {
   "cell_type": "markdown",
   "metadata": {},
   "source": [
    "## Heisenberg simulation"
   ]
  },
  {
   "cell_type": "code",
   "execution_count": 19,
   "metadata": {},
   "outputs": [
    {
     "name": "stdout",
     "output_type": "stream",
     "text": [
      "CPU times: user 54.2 s, sys: 0 ns, total: 54.2 s\n",
      "Wall time: 54.2 s\n"
     ]
    }
   ],
   "source": [
    "%%time\n",
    "\n",
    "circuit = rnd_clifford_t_circuit(\n",
    "    n_qubits=n_qubits, n_bits=n_bits, num_t=num_t, t_gadget=True, randomize=False, magic_prep=False, seed=seed\n",
    ")\n",
    "\n",
    "heavy_paulis = []\n",
    "heis_expvals = []\n",
    "\n",
    "for p in sampled_paulis:\n",
    "    estimate, all_expvals = compute_pauli_expval_with_gadget_and_linear_comb_heisenberg(\n",
    "        circuit, pauli=p, n_qubits=n_qubits, num_t=num_t, max_z_weight=num_t\n",
    "    )\n",
    "    \n",
    "    # Skip zero expectation values\n",
    "    #if np.isclose(estimate, 0.0):\n",
    "    #    continue\n",
    "\n",
    "    heavy_paulis.append(p)\n",
    "    heis_expvals.append(estimate)\n",
    "    heis_all_expvals.append(heis_all_expvals)\n",
    "    # print(f\"Pauli: {p} \\texpval_heisenberg: {estimate:.4}\")\n"
   ]
  },
  {
   "cell_type": "markdown",
   "metadata": {},
   "source": [
    "## Truncated Heisenberg-only simulation"
   ]
  },
  {
   "cell_type": "code",
   "execution_count": 20,
   "metadata": {},
   "outputs": [
    {
     "name": "stdout",
     "output_type": "stream",
     "text": [
      "CPU times: user 48.6 s, sys: 0 ns, total: 48.6 s\n",
      "Wall time: 48.6 s\n"
     ]
    }
   ],
   "source": [
    "%%time\n",
    "\n",
    "circuit = rnd_clifford_t_circuit(\n",
    "    n_qubits=n_qubits, n_bits=n_bits, num_t=num_t, t_gadget=True, randomize=False, magic_prep=False, seed=seed\n",
    ")\n",
    "\n",
    "heavy_paulis_approx = []\n",
    "heis_expvals_approx = []\n",
    "\n",
    "for p in heavy_paulis:\n",
    "    estimate, _ = compute_pauli_expval_with_gadget_and_linear_comb_heisenberg(\n",
    "        circuit, pauli=p, n_qubits=n_qubits, num_t=num_t, max_z_weight=num_t * 3 // 4, \n",
    "    )\n",
    "    \n",
    "    heavy_paulis_approx.append(p)\n",
    "    heis_expvals_approx.append(estimate)\n",
    "    # print(f\"Pauli: {p} \\texpval_heisenberg: {estimate:.4}\")\n"
   ]
  },
  {
   "cell_type": "code",
   "execution_count": 21,
   "metadata": {},
   "outputs": [],
   "source": [
    "zipped_expvals = np.array(sorted(zip(heis_expvals, heis_expvals_approx), key=lambda x: -abs(x[0])))\n",
    "heis_expvals_sorted = zipped_expvals[::, 0]\n",
    "heis_expvals_approx_sorted = zipped_expvals[::, 1]"
   ]
  },
  {
   "cell_type": "code",
   "execution_count": 22,
   "metadata": {},
   "outputs": [
    {
     "data": {
      "image/png": "[encoded data removed]",
      "text/plain": [
       "<Figure size 432x288 with 1 Axes>"
      ]
     },
     "metadata": {
      "needs_background": "light"
     },
     "output_type": "display_data"
    }
   ],
   "source": [
    "plt.plot(heis_expvals_sorted, marker = \".\", linestyle=\"None\")\n",
    "plt.plot(np.array(heis_expvals_approx_sorted) + 0.02, marker = \".\", linestyle=\"None\")\n",
    "plt.title(\"All non-zero pauli matrices\")\n",
    "plt.show()"
   ]
  },
  {
   "cell_type": "code",
   "execution_count": 23,
   "metadata": {},
   "outputs": [
    {
     "data": {
      "text/plain": [
       "0.0005798339843749996"
      ]
     },
     "execution_count": 23,
     "metadata": {},
     "output_type": "execute_result"
    }
   ],
   "source": [
    "# Mean squared error\n",
    "np.square(np.subtract(heis_expvals_sorted, heis_expvals_approx_sorted)).mean()"
   ]
  },
  {
   "cell_type": "code",
   "execution_count": 24,
   "metadata": {},
   "outputs": [
    {
     "data": {
      "text/plain": [
       "0.0005798339843749996"
      ]
     },
     "execution_count": 24,
     "metadata": {},
     "output_type": "execute_result"
    }
   ],
   "source": [
    "# Mean squared error w.r.t. heavy paulis only\n",
    "non_zero_mask = np.invert(np.isclose(np.abs(heis_expvals_sorted) + np.abs(heis_expvals_approx_sorted), 0.0))\n",
    "np.mean(non_zero_mask * np.square(np.subtract(heis_expvals_sorted, heis_expvals_approx_sorted)))"
   ]
  }
 ],
 "metadata": {
  "kernelspec": {
   "display_name": "Python 3 (ipykernel)",
   "language": "python",
   "name": "python3"
  },
  "language_info": {
   "codemirror_mode": {
    "name": "ipython",
    "version": 3
   },
   "file_extension": ".py",
   "mimetype": "text/x-python",
   "name": "python",
   "nbconvert_exporter": "python",
   "pygments_lexer": "ipython3",
   "version": "3.9.1"
  }
 },
 "nbformat": 4,
 "nbformat_minor": 2
}
